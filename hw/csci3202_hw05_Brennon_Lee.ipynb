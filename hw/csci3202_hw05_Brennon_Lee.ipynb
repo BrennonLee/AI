{
 "cells": [
  {
   "cell_type": "markdown",
   "metadata": {},
   "source": [
    "<a id='top'></a>\n",
    "\n",
    "# CSCI 3202, Spring 2018\n",
    "# Assignment 5\n",
    "# Due:  Wednesday 11 April 2018 by 12:00 PM\n",
    "\n",
    "<br>\n",
    "\n",
    "### Your name: Brennon Lee\n",
    "\n",
    "<br>\n",
    "\n",
    "**Note:** Some packages to load, helper functions and unit tests are defined at [the bottom of this notebook](#helpers). They're also defined up here, because I care.\n",
    "\n",
    "Shortcuts:  [top](#top) || [1](#p1) | [1a](#p1a) | [1b](#p1b) | [1c](#p1c) | [1d](#p1d) | [1e](#p1e) | [1f](#p1f) | [1g](#p1g) || [2](#p2) | [2a](#p2a) | [2b](#p2b) | [2c](#p2c) | [2d](#p2d) | [2e](#p2e) || [3](#p3) | [3a](#p3a) | [3b](#p3b) | [3c](#p3c) | [3d](#p3d) | [3e](#p3e) | [3f](#p3f) | [3g](#p3g) || [helpers](#helpers)"
   ]
  },
  {
   "cell_type": "code",
   "execution_count": 51,
   "metadata": {},
   "outputs": [],
   "source": [
    "from scipy import stats\n",
    "import unittest\n",
    "import numpy as np\n",
    "import pandas as pd\n",
    "import matplotlib.pyplot as plt"
   ]
  },
  {
   "cell_type": "markdown",
   "metadata": {},
   "source": [
    "---\n",
    "\n",
    "<a id='p1'></a>[Back to top](#top)\n",
    "\n",
    "## Problem 1:  Bayesian network to model heart disease\n",
    "\n",
    "The following Bayesian network is based loosely on a study that examined heart disease risk factors in 167 elderly individuals in South Carolina.  This study is [linked here](https://piazza.com/class_profile/get_resource/jc4v74a5uu5wa/jeyiv7kvs7r7ck) and posted to Piazza under the Resources tab.  Note that this figure uses Y and N to represent Yes and No, whereas in class we used the equivalent T and F to represent True and False Boolean values.\n",
    "\n",
    "<img src=\"http://www.cs.colorado.edu/~tonyewong/home/resources/hw05_bayesnet_heartdisease.png\" style=\"width: 650px;\"/>"
   ]
  },
  {
   "cell_type": "markdown",
   "metadata": {},
   "source": [
    "<a id='p1a'></a>\n",
    "\n",
    "### (1a) \n",
    "\n",
    "Create a `BayesNet` object to model this.  Below are the codes for the (conditional) probability `P` function and `BayesNode` class as well, that we used in class on Friday (16 March) to represent the variable nodes and calculate probabilities. You can code this however you want, subject to the following constraints:\n",
    "1. the nodes are represented using the `BayesNode` class and can work with the `P` function for probabilities,\n",
    "1. your `BayesNet` structure keeps track of which nodes are in the Bayes net, as well as\n",
    "1. which nodes are the parents/children of which other nodes.\n",
    "\n",
    "Some *suggested* skeleton codes for a class structure are given. The suggestions for methods to implement are in view of the fact that we will need to calculate some probabilities, which is going to require us to `find_node`s and `find_values` that nodes can take on."
   ]
  },
  {
   "cell_type": "code",
   "execution_count": 12,
   "metadata": {},
   "outputs": [],
   "source": [
    "## For the sake of brevity...\n",
    "T, F = True, False\n",
    "\n",
    "## From class:\n",
    "def P(var, value, evidence={}):\n",
    "    '''The probability distribution for P(var | evidence), \n",
    "    when all parent variables are known (in evidence)'''\n",
    "    if len(var.parents)==1:\n",
    "        # only one parent\n",
    "        row = evidence[var.parents[0]]\n",
    "    else:\n",
    "        # multiple parents\n",
    "        row = tuple(evidence[parent] for parent in var.parents)\n",
    "    return var.cpt[row] if value else 1-var.cpt[row]\n",
    "\n",
    "## Also from class:\n",
    "class BayesNode:\n",
    "    \n",
    "    def __init__(self, name, parents, values, cpt):\n",
    "        if isinstance(parents, str):\n",
    "            parents = parents.split()\n",
    "            \n",
    "        if len(parents)==0:\n",
    "            # if no parents, empty dict key for cpt\n",
    "            cpt = {(): cpt}\n",
    "        elif isinstance(cpt, dict):\n",
    "            # if there is only one parent, only one tuple argument\n",
    "            if cpt and isinstance(list(cpt.keys())[0], bool):\n",
    "                cpt = {(v): p for v, p in cpt.items()}\n",
    "\n",
    "        self.variable = name\n",
    "        self.parents = parents\n",
    "        self.cpt = cpt\n",
    "        self.values = values\n",
    "        self.children = []\n",
    "        \n",
    "    def __repr__(self):\n",
    "        return repr((self.variable, ' '.join(self.parents)))    \n",
    "\n",
    "    \n",
    "##===============================================##\n",
    "## Suggested skeleton codes for a BayesNet class ##\n",
    "##===============================================##\n",
    "\n",
    "class BayesNet:\n",
    "    '''Bayesian network containing only boolean-variable nodes.'''\n",
    "\n",
    "    def __init__(self, nodes):\n",
    "        '''Initialize the Bayes net by adding each of the nodes,\n",
    "        which should be a list BayesNode class objects ordered\n",
    "        from parents to children (`top` to `bottom`, from causes\n",
    "        to effects)'''\n",
    "        \n",
    "        # your code goes here...\n",
    "        print(nodes)\n",
    "        for node in nodes:\n",
    "            self.add(node)\n",
    "        \n",
    "\n",
    "                \n",
    "    def add(self, node):\n",
    "        '''Add a new BayesNode to the BayesNet. The parents should all\n",
    "        already be in the net, and the variable itself should not be'''\n",
    "        assert node.variable not in self.variables\n",
    "        assert all((parent in self.variables) for parent in node.parents)\n",
    "        \n",
    "        # your code goes here...\n",
    "        \n",
    "        \n",
    "\n",
    "            \n",
    "    def find_node(self, var):\n",
    "        '''Find and return the BayesNode in the net with name `var`'''\n",
    "        \n",
    "        # your code goes here...\n",
    "        \n",
    "\n",
    "        \n",
    "    def find_values(self, var):\n",
    "        '''Return the set of possible values for variable `var`'''\n",
    "        \n",
    "        # your code goes here...\n",
    "        \n",
    "\n",
    "    \n",
    "    def __repr__(self):\n",
    "        return 'BayesNet({})'.format(self.nodes)"
   ]
  },
  {
   "cell_type": "code",
   "execution_count": null,
   "metadata": {},
   "outputs": [],
   "source": []
  },
  {
   "cell_type": "markdown",
   "metadata": {},
   "source": [
    "#### Unit tests"
   ]
  },
  {
   "cell_type": "code",
   "execution_count": 13,
   "metadata": {},
   "outputs": [
    {
     "name": "stderr",
     "output_type": "stream",
     "text": [
      "..\n",
      "----------------------------------------------------------------------\n",
      "Ran 2 tests in 0.001s\n",
      "\n",
      "OK\n"
     ]
    },
    {
     "data": {
      "text/plain": [
       "<unittest.runner.TextTestResult run=2 errors=0 failures=0>"
      ]
     },
     "execution_count": 13,
     "metadata": {},
     "output_type": "execute_result"
    }
   ],
   "source": [
    "tests_to_run = unittest.TestSuite()\n",
    "tests_to_run.addTest(Tests_Problem1(\"test_onenode\"))\n",
    "tests_to_run.addTest(Tests_Problem1(\"test_twonode\"))\n",
    "unittest.TextTestRunner().run(tests_to_run)"
   ]
  },
  {
   "cell_type": "markdown",
   "metadata": {},
   "source": [
    "<a/ id='p1b'></a>\n",
    "\n",
    "### (1b)\n",
    "\n",
    "Craft a function `get_prob(X, e, bn)` to return the **normalized** probability distribution of variable `X` in Bayes net `bn`, given the evidence `e`.  That is, return $P(X \\mid e)$. The arguments are:\n",
    "* `X` is some representation of the variable you are querying the probability distribution of. Either a string (the variable name from the `BayesNode` or a `BayesNode` object itself are good options.\n",
    "* `e` is some representation of the evidence your probability is conditioned on. When given an empty argument (or `None`) for `e`, `get_prob` should return the marginal distribution $P(X)$.\n",
    "* `bn` is your `BayesNet` object.\n",
    "\n",
    "You may do this using the `enumeration` algorithm from class (pseudocode is in the book), or by brute force (i.e., use a few `for` loops). Either way, you should be using your `BayesNet` object to keep track of all the nodes and relationships between nodes so your `get_prob` function knows these things."
   ]
  },
  {
   "cell_type": "code",
   "execution_count": null,
   "metadata": {
    "collapsed": true
   },
   "outputs": [],
   "source": []
  },
  {
   "cell_type": "markdown",
   "metadata": {},
   "source": [
    "Use your `get_prob` function to calculate the following probabilities. Print them to the screen and compare to the original Bayes net figure given to make sure the output passes these \"unit tests\".\n",
    "\n",
    "1. The marginal probability of `Family History` is $P(FH=T)=0.15$\n",
    "2. The probability of *not* experiencing `Angina Pectoris`, given `Heart Disease` is observed, is $P(Ang=F \\mid HD=T)=1-0.85=0.15$\n",
    "3. The probability of `High Blood Pressure`, given a person does `Smoke and/or use Alcohol` but does not get `Moderate Exercise`, is $P(HBP=T \\mid Sm=T, ME=F)=0.72$"
   ]
  },
  {
   "cell_type": "code",
   "execution_count": null,
   "metadata": {},
   "outputs": [],
   "source": []
  },
  {
   "cell_type": "markdown",
   "metadata": {},
   "source": [
    "<a/ id='p1c'></a>\n",
    "\n",
    "### (1c)\n",
    "\n",
    "Calculate the probability of observing someone with `High Blood Pressure`, $P(HBP=T)$, *by hand*, showing all work in Markdown/LateX below."
   ]
  },
  {
   "cell_type": "markdown",
   "metadata": {
    "collapsed": true
   },
   "source": [
    "**Your answer:**"
   ]
  },
  {
   "cell_type": "code",
   "execution_count": null,
   "metadata": {
    "collapsed": true
   },
   "outputs": [],
   "source": []
  },
  {
   "cell_type": "markdown",
   "metadata": {},
   "source": [
    "**Verify** your calculation using your `get_prob` function."
   ]
  },
  {
   "cell_type": "code",
   "execution_count": null,
   "metadata": {},
   "outputs": [],
   "source": []
  },
  {
   "cell_type": "markdown",
   "metadata": {},
   "source": [
    "<a/ id='p1d'></a>\n",
    "\n",
    "### (1d)\n",
    "\n",
    "Now calculate the following probabilities using your `get_prob` function.\n",
    "\n",
    "[i] The probability of an arbitrary individual having `Heart Disease`, $P(HD=T)$"
   ]
  },
  {
   "cell_type": "code",
   "execution_count": null,
   "metadata": {},
   "outputs": [],
   "source": []
  },
  {
   "cell_type": "markdown",
   "metadata": {},
   "source": [
    "[ii] The probability that an individual does *not* have `Heart Disease`, given that `Rapid Heartbeat` was observed, $P(HD=F \\mid Rapid=T)$"
   ]
  },
  {
   "cell_type": "code",
   "execution_count": null,
   "metadata": {},
   "outputs": [],
   "source": []
  },
  {
   "cell_type": "markdown",
   "metadata": {},
   "source": [
    "[iii] The probability of an individual having `High Blood Pressure` if they have `Heart Disease` and a `Family History`, $P(HBP=T \\mid HD=T, FH=T)$"
   ]
  },
  {
   "cell_type": "code",
   "execution_count": null,
   "metadata": {},
   "outputs": [],
   "source": []
  },
  {
   "cell_type": "markdown",
   "metadata": {},
   "source": [
    "[iv] The probability that an individual is a `Smoker/Alcohol User` if they have `Heart Disease`, $P(Sm=T \\mid HD=T)$"
   ]
  },
  {
   "cell_type": "code",
   "execution_count": null,
   "metadata": {},
   "outputs": [],
   "source": []
  },
  {
   "cell_type": "markdown",
   "metadata": {},
   "source": [
    "[v] How would you expect the probability in [iv] to change if you also know the individual has `High Blood Pressure`?  Verify your hypothesis by calculating the relevant probability."
   ]
  },
  {
   "cell_type": "markdown",
   "metadata": {},
   "source": [
    "**Your answer:**"
   ]
  },
  {
   "cell_type": "code",
   "execution_count": null,
   "metadata": {},
   "outputs": [],
   "source": []
  },
  {
   "cell_type": "markdown",
   "metadata": {},
   "source": [
    "[vi] How would you expect the probability in [v] to change if you also know that the individual does *not* get `Moderate Exercise` (in addition to having `Heart Disease` and `High Blood Pressure`)?  Explain your answer using concepts from class.  Verify your answer by calculating the relevant probability."
   ]
  },
  {
   "cell_type": "code",
   "execution_count": null,
   "metadata": {
    "collapsed": true
   },
   "outputs": [],
   "source": []
  },
  {
   "cell_type": "markdown",
   "metadata": {},
   "source": [
    "**Your answer:**"
   ]
  },
  {
   "cell_type": "code",
   "execution_count": null,
   "metadata": {},
   "outputs": [],
   "source": []
  },
  {
   "cell_type": "markdown",
   "metadata": {},
   "source": [
    "---\n",
    "\n",
    "<a id='p2'></a>[Back to top](#top)\n",
    "\n",
    "<img src=\"https://inhabitat.com/wp-content/blogs.dir/1/files/2014/02/norman-bike-riding-dog.png\" style=\"width: 350px;\"/>\n",
    "\n",
    "## Problem 2:  Bayesian network to model decision-making\n",
    "\n",
    "Let's consider using a Bayesian network to model our decision about whether or not to ride our bike to work today.  This decision depends heavily on the weather, so let's focus on that.\n",
    "\n",
    "In class, we focused on Boolean variables.  For example, we might base our biking decision on whether or not it is raining.  But in reality, it probably matters *how hard* it is raining.  So suppose we break the variable `Rain` up into three discrete bins: `none`, `light` and `heavy`.\n",
    "\n",
    "The temperature also factors into our decision.  There is definitely a sweet spot, where temperatures are neither too warm nor too cold, so it is very likely we would enjoy riding our bike.  So we can model the variable `Temperature` also using three discrete bins: `cold`, `moderate` and `warm`.\n",
    "\n",
    "So a Bayesian network to model our decision for whether or not to bike to work could be as follows, where the first letter of each discrete bin is used to denote that variable value (i.e., `R=h` stands for heavy rain conditions).\n",
    "\n",
    "<img src=\"http://www.cs.colorado.edu/~tonyewong/home/resources/bayesnet_biking2.png\" style=\"width: 650px;\"/>"
   ]
  },
  {
   "cell_type": "markdown",
   "metadata": {},
   "source": [
    "<a/ id='p2a'></a>\n",
    "\n",
    "### (2a)\n",
    "\n",
    "Modify the `P` probability function to be able to handle these ternary parent nodes."
   ]
  },
  {
   "cell_type": "code",
   "execution_count": null,
   "metadata": {
    "collapsed": true
   },
   "outputs": [],
   "source": []
  },
  {
   "cell_type": "markdown",
   "metadata": {},
   "source": [
    "Set up `BayesNode` objects for each of `Rain`, `Temp` and `Bike`, and create a `BayesNet` object to model the Bayesian network for this decision.  Again, you can use whatever structure you wish for your `BayesNet`, but please use the `BayesNode` class.  You may need to make minor modifications to the `BayesNode` class (e.g., changing/adding attributes), although none are strictly necessary."
   ]
  },
  {
   "cell_type": "code",
   "execution_count": null,
   "metadata": {
    "collapsed": true
   },
   "outputs": [],
   "source": []
  },
  {
   "cell_type": "markdown",
   "metadata": {},
   "source": [
    "**Verify** that your modified probability function `P` is working by checking the following \"unit tests\". Print the output to screen and compare to what you expect from the figure above.\n",
    "\n",
    "1. The marginal probability of no rain is $P(Rain=n)=0.8$\n",
    "1. The marginal probability of light rain is $P(Rain=l)=0.15$\n",
    "1. The marginal probability of heavy rain is $P(Rain=h)=0.05$\n",
    "1. The probability of biking given that it is raining heavily and the temperature is cold, is $P(Bike=T \\mid Rain=h, Temp=c)=0.2$"
   ]
  },
  {
   "cell_type": "code",
   "execution_count": null,
   "metadata": {},
   "outputs": [],
   "source": []
  },
  {
   "cell_type": "markdown",
   "metadata": {},
   "source": [
    "<a/ id='p2b'></a>\n",
    "\n",
    "### (2b)\n",
    "\n",
    "Make any necessary modifications to your `get_prob` function from Problem 1, so that you can use it to calculate marginal probabilities and conditional probabilities for this problem. It is possible that your function does not require any modifications."
   ]
  },
  {
   "cell_type": "code",
   "execution_count": null,
   "metadata": {
    "collapsed": true
   },
   "outputs": [],
   "source": []
  },
  {
   "cell_type": "markdown",
   "metadata": {},
   "source": [
    "Use `get_prob` to calculate $P(Bike)$, the probability distribution for whether or not you will ride your bike on any given day."
   ]
  },
  {
   "cell_type": "code",
   "execution_count": null,
   "metadata": {},
   "outputs": [],
   "source": []
  },
  {
   "cell_type": "markdown",
   "metadata": {},
   "source": [
    "Use `get_prob` to calculate the probability that you will ride your bike, given that it is lightly raining."
   ]
  },
  {
   "cell_type": "code",
   "execution_count": null,
   "metadata": {},
   "outputs": [],
   "source": []
  },
  {
   "cell_type": "markdown",
   "metadata": {},
   "source": [
    "<a/ id='p2c'></a>\n",
    "\n",
    "### (2c)\n",
    "\n",
    "We are trapped indoors because some jerk gave us a ton of Intro to Artificial Intelligence homework to do.  Suppose we look out the window and see people biking. They sure do look like they're having fun! *Given* this information, we can actually make inferences regarding the temperature outside!  What is the probability distribution for temperature, given that we observe people biking?\n",
    "\n",
    "First, compute this using your `get_prob` function."
   ]
  },
  {
   "cell_type": "code",
   "execution_count": null,
   "metadata": {},
   "outputs": [],
   "source": []
  },
  {
   "cell_type": "markdown",
   "metadata": {},
   "source": [
    "<a/ id='p2d'></a>\n",
    "\n",
    "### (2d)\n",
    "\n",
    "Confirm your answer to **2c** by hand, showing *all* relevant work below in a LateX/Markdown cell."
   ]
  },
  {
   "cell_type": "code",
   "execution_count": null,
   "metadata": {
    "collapsed": true
   },
   "outputs": [],
   "source": []
  },
  {
   "cell_type": "markdown",
   "metadata": {},
   "source": [
    "**Your answer:**\n"
   ]
  },
  {
   "cell_type": "code",
   "execution_count": null,
   "metadata": {
    "collapsed": true
   },
   "outputs": [],
   "source": []
  },
  {
   "cell_type": "markdown",
   "metadata": {},
   "source": [
    "<a/ id='p2e'></a>\n",
    "\n",
    "### (2e)\n",
    "\n",
    "Finally, confirm your confirmation of the probability distribution for `Temp` by using approximate Bayesian computation and 10,000 samples.  That is, use the **prior sampling** and **\"rejection sampling\"** techniques from class to estimate the probabilities associated with each possible value for `Temp`, given that there are people biking outside."
   ]
  },
  {
   "cell_type": "code",
   "execution_count": null,
   "metadata": {},
   "outputs": [],
   "source": []
  },
  {
   "cell_type": "markdown",
   "metadata": {},
   "source": [
    "As a \"Unit Test\", check what the probability of riding your bike is, given no other information.  Make sure this approximately matches your answer to **2b**."
   ]
  },
  {
   "cell_type": "code",
   "execution_count": null,
   "metadata": {},
   "outputs": [],
   "source": []
  },
  {
   "cell_type": "markdown",
   "metadata": {},
   "source": [
    "\n"
   ]
  },
  {
   "cell_type": "markdown",
   "metadata": {},
   "source": [
    "---\n",
    "\n",
    "<a id='p3'></a>\n",
    "\n",
    "## Problem 3:  Markov models - random walk to Taco Bell\n",
    "\n",
    "Your friend Chris went to a party last night and drank way too much Fun Juice.  Chris is feeling a bit hungry, so he leaves the party, which is at the corner of 6th Street East and 3rd Street North, and heads for Taco Bell, which is located at the corner of 2nd Street East and 1st Street North.  A figure depicting this neighborhood is given below.\n",
    "\n",
    "<img src=\"http://www.cs.colorado.edu/~tonyewong/home/resources/random_walk_to_taco_bell.png\" style=\"width: 650px;\"/>\n",
    "\n",
    "Fun Juice makes Chris' sense of direction quite poor, so at each intersection along his way, he picks any one of the available directions with equal probability.  Chris at least knows not to go north of 4th Street North, south of 0th Street North, east of 7th Street East, or west of 0th Street East, and has the common decency not to cut through anyone's yard (i.e., he only walks along streets).\n",
    "\n",
    "Suppose Chris only cares about traveling between from one intersection to another, and considers one *move* to be walking one block, from one intersection to an adjacent intersection.\n",
    "\n",
    "Since this grid is precisely a Cartesian coordinate grid, let the bottom-left corner of the neighborhood be represented by $(0,0)$.  Then the available moves from that location are to walk East (right, in the $+x$ direction) to $(1,0)$ or North to $(0,1)$.\n",
    "\n",
    "<a id='p3a'></a>\n",
    "\n",
    "### (3a)\n",
    "\n",
    "Create a class for `Neighborhood` and for `Agent`, to represent the neighborhood and the agent trying to get to Taco Bell:\n",
    "\n",
    "`Neighborhood(n_northsouth, n_eastwest, taco_bell)`:\n",
    "* `n_northsouth` and `n_eastwest` provide the number of streets running north-south and the number of streets running east-west, respectively.  In the given figure, there are 5 streets running east-west, for example.\n",
    "* `taco_bell` is a tuple providing the coordinates of Taco Bell in this neighborhood.\n",
    "* has attributes for:\n",
    "  * number of streets running north-south\n",
    "  * number of streets running east-west\n",
    "  * all of the intersections in the neighborhood\n",
    "  * the location of the Taco Bell in the neighborhood\n",
    "* Implement in your code a check to make sure the location of the Taco Bell is within the neighborhood's coordinates.  Assume that the south-west corner of the neighborhood is always $(0,0)$.\n",
    "\n",
    "`Agent(name, loc, neighborhood)`:\n",
    "* In the constructor, provide the agent with a `name` (string), initial location as a tuple (`loc`), and a `Neighborhood` to live in. Store these as attributes.\n",
    "* Fill in the rest of the needed methods for the agent:\n",
    "  * `available_moves()` returns a list of tuples, representing the locations the agent can walk to from its current location\n",
    "  * `random_move()` returns one of the possible moves\n",
    "  * `walk(move)` updates the agent's location, if they make the given argument `move`\n",
    "  * `at_taco_bell()` returns True if the agent is at the same intersection as the neighborhood Taco Bell, and False otherwise"
   ]
  },
  {
   "cell_type": "code",
   "execution_count": 54,
   "metadata": {},
   "outputs": [],
   "source": [
    "class Neighborhood:\n",
    "    def __init__(self, n_northsouth, n_eastwest, taco_bell):\n",
    "        '''Set up the layout of the neighborhood by giving the # streets\n",
    "        running North/South (n_northsouth) and the # streets running \n",
    "        East/West). Based on these, store all the available locations \n",
    "        (intersections) in the neighborhood, and make sure the given\n",
    "        coordinates for Taco Bell are valid'''\n",
    "        \n",
    "        # your code goes here...\n",
    "        self.n_northsouth = n_northsouth\n",
    "        self.n_eastwest = n_eastwest\n",
    "        \n",
    "        self.coords = []\n",
    "        \n",
    "        for ns in range(self.n_northsouth):\n",
    "            for ew in range(self.n_eastwest):\n",
    "                self.coords.append((ns, ew))\n",
    "        \n",
    "        assert(taco_bell in self.coords)\n",
    "        \n",
    "        self.taco_bell = taco_bell\n",
    "        \n",
    "        \n",
    "class Agent:\n",
    "    def __init__(self, name, loc, neighborhood):\n",
    "        \n",
    "        # your code goes here...\n",
    "        self.name = name #string\n",
    "        self.loc = loc #tuple\n",
    "        self.neighborhood = neighborhood\n",
    "        self.blocks = 0\n",
    "        \n",
    "    def available_moves(self):\n",
    "        '''Return a list of available intersections the agent can move to,\n",
    "        based on the layout of the agent's neighborhood'''\n",
    "        moves = []\n",
    "        \n",
    "        right = (self.loc[0] + 1, self.loc[1])\n",
    "        left = (self.loc[0] - 1, self.loc[1])\n",
    "        up = (self.loc[0], self.loc[1] + 1)\n",
    "        down = (self.loc[0], self.loc[1] - 1)\n",
    "        \n",
    "        check_moves = [right, left, up, down]\n",
    "        \n",
    "        for move in check_moves:\n",
    "            if move in self.neighborhood.coords:\n",
    "                moves.append(move)\n",
    "        \n",
    "        return moves\n",
    "\n",
    "    def random_move(self):\n",
    "        '''Return a random move out of the available moves\n",
    "        from the agent`s current location'''\n",
    "        moves = self.available_moves()\n",
    "        idx = np.random.randint(0, len(moves))\n",
    "    \n",
    "        return moves[idx]\n",
    "        \n",
    "    \n",
    "    def walk(self, move):\n",
    "        '''Update the agent to a new location'''\n",
    "        self.blocks += 1\n",
    "        self.loc = move        \n",
    "        \n",
    "    def at_taco_bell(self):\n",
    "        '''Return True if the agent is at Taco Bell, and False otherwise'''\n",
    "        \n",
    "        return self.loc == self.neighborhood.taco_bell\n",
    "        \n",
    "    \n",
    "    def __repr__(self):\n",
    "        return '{} at {}'.format(self.name, self.loc)"
   ]
  },
  {
   "cell_type": "code",
   "execution_count": null,
   "metadata": {},
   "outputs": [],
   "source": []
  },
  {
   "cell_type": "markdown",
   "metadata": {},
   "source": [
    "#### Unit tests"
   ]
  },
  {
   "cell_type": "code",
   "execution_count": 55,
   "metadata": {},
   "outputs": [
    {
     "name": "stderr",
     "output_type": "stream",
     "text": [
      "...\n",
      "----------------------------------------------------------------------\n",
      "Ran 3 tests in 0.002s\n",
      "\n",
      "OK\n"
     ]
    },
    {
     "data": {
      "text/plain": [
       "<unittest.runner.TextTestResult run=3 errors=0 failures=0>"
      ]
     },
     "execution_count": 55,
     "metadata": {},
     "output_type": "execute_result"
    }
   ],
   "source": [
    "tests_to_run = unittest.TestSuite()\n",
    "tests_to_run.addTest(Tests_Problem3('test_moves_corner'))\n",
    "tests_to_run.addTest(Tests_Problem3('test_moves_center'))\n",
    "tests_to_run.addTest(Tests_Problem3('test_tacos'))\n",
    "unittest.TextTestRunner().run(tests_to_run)"
   ]
  },
  {
   "cell_type": "markdown",
   "metadata": {},
   "source": [
    "<a/ id='p3b'></a>\n",
    "\n",
    "### (3b)\n",
    "\n",
    "Create a neighborhood and Chris agent to represent the situation above.\n",
    "\n",
    "Then, run an ensemble of 1,000 simulations to obtain a sample for the number of blocks Chris must travel in order to arrive at Taco Bell at (2,1), starting from the party at (6,3).  Report the expected number of blocks traveled."
   ]
  },
  {
   "cell_type": "code",
   "execution_count": 73,
   "metadata": {},
   "outputs": [
    {
     "name": "stdout",
     "output_type": "stream",
     "text": [
      "Expected number of blocks traveled is:  81.63\n"
     ]
    }
   ],
   "source": [
    "def chris_simulation():\n",
    "    hood = Neighborhood(8,5,(2,1))\n",
    "    Chris = Agent('Chris', (6,3), hood)\n",
    "\n",
    "    while not Chris.at_taco_bell():\n",
    "        move = Chris.random_move()\n",
    "        Chris.walk(move)\n",
    "    \n",
    "    return Chris.blocks\n",
    "        \n",
    "num_of_blocks = [chris_simulation() for i in range(1000)]\n",
    "\n",
    "print('Expected number of blocks traveled is: ', np.mean(num_of_blocks))"
   ]
  },
  {
   "cell_type": "markdown",
   "metadata": {},
   "source": [
    "**Reflection:**  The sequence of states (coordinates) that Chris passed through in his travels is a **Markov chain** - each new state depended only on the previous one.  This process, called a **random walk**, can be a useful way to explore a state space.\n",
    "\n",
    "\n",
    "<a/ id='p3c'></a>\n",
    "\n",
    "### (3c)\n",
    "\n",
    "Let us explore one of the characteristics of a Markov chain that we often find ourselves interested in:  the **expected time of first return** to a state.  In particular, let's examine Chris' **expected time of first return to Taco Bell**.\n",
    "\n",
    "Build an ensemble of 1,000 simulations of how many blocks Chris must travel to return to Taco Bell, given that he starts at Taco Bell in the neighborhood depicted in the figure above.\n",
    "\n",
    "We can estimate the expected time of first return to Taco Bell using the **mean** number of blocks Chris must travel in order to make it back to those tasty tacos. Report this estimate based on your simulation results."
   ]
  },
  {
   "cell_type": "code",
   "execution_count": 72,
   "metadata": {},
   "outputs": [
    {
     "name": "stdout",
     "output_type": "stream",
     "text": [
      "Expected blocks traveled until first return is:  33.16\n"
     ]
    }
   ],
   "source": [
    "def chris_first_return():\n",
    "    hood = Neighborhood(8,5,(2,1))\n",
    "    Chris = Agent('Chris', (2,1), hood)\n",
    "    \n",
    "    move = Chris.random_move()\n",
    "    Chris.walk(move)\n",
    "    \n",
    "    while not Chris.at_taco_bell():\n",
    "        move = Chris.random_move()\n",
    "        Chris.walk(move)\n",
    "    \n",
    "    return Chris.blocks\n",
    "        \n",
    "num_of_blocks = [chris_first_return() for i in range(1000)]\n",
    "\n",
    "print('Expected blocks traveled until first return is: ', np.mean(num_of_blocks))"
   ]
  },
  {
   "cell_type": "markdown",
   "metadata": {},
   "source": [
    "<a id='p3d'></a>\n",
    "\n",
    "### (3d)\n",
    "\n",
    "Your friend Dan also is leaving the party.  Dan leaves just after Chris.  Dan, however, has a preference for heading west (left, in the $-x$ direction) when he can, for that is where Ralphie roams.  In fact, his preference for being nearer to Ralphie is so strong that if it is possible for him to move west, then he does so 60% of the time, with the other 40% of the probability distributed equally among his other options.\n",
    "\n",
    "Revise the `Agent` class - or better yet, *sub-class it*, to represent Dan's strange yet endearing decision-making for which random direction to move in."
   ]
  },
  {
   "cell_type": "code",
   "execution_count": 58,
   "metadata": {},
   "outputs": [],
   "source": [
    "class Dans_Agent:\n",
    "    def __init__(self, name, loc, neighborhood):\n",
    "        \n",
    "        # your code goes here...\n",
    "        self.name = name #string\n",
    "        self.loc = loc #tuple\n",
    "        self.neighborhood = neighborhood\n",
    "        self.blocks = 0\n",
    "        \n",
    "    def available_moves(self):\n",
    "        '''Return a list of available intersections the agent can move to,\n",
    "        based on the layout of the agent's neighborhood'''\n",
    "        moves = []\n",
    "        \n",
    "        right = (self.loc[0] + 1, self.loc[1]) #move one to the east\n",
    "        left = (self.loc[0] - 1, self.loc[1]) #move one to the west\n",
    "        up = (self.loc[0], self.loc[1] + 1) #move one up\n",
    "        down = (self.loc[0], self.loc[1] - 1) #move one down\n",
    "        \n",
    "        check_moves = [right, left, up, down]\n",
    "        \n",
    "        for move in check_moves:\n",
    "            if move in self.neighborhood.coords:\n",
    "                moves.append(move)\n",
    "        \n",
    "        return moves\n",
    "\n",
    "    def random_move(self):\n",
    "        '''Return a random move out of the available moves\n",
    "        from the agent`s current location'''\n",
    "        moves = self.available_moves()\n",
    "        \n",
    "        west_move = (self.loc[0] - 1, self.loc[0])\n",
    "        \n",
    "        if west_move in moves:\n",
    "            west_move_index = moves.index(west_move)\n",
    "            probs = [0.4/(len(moves)-1) for i in range(len(moves))]\n",
    "            probs[west_move_index] = 0.6\n",
    "            idx = np.random.choice(len(moves), 1, p=probs)[0]\n",
    "        else:\n",
    "            idx = np.random.randint(0, len(moves))\n",
    "    \n",
    "        return moves[idx]\n",
    "        \n",
    "    \n",
    "    def walk(self, move):\n",
    "        '''Update the agent to a new location'''\n",
    "        self.blocks += 1\n",
    "        self.loc = move        \n",
    "        \n",
    "    def at_taco_bell(self):\n",
    "        '''Return True if the agent is at Taco Bell, and False otherwise'''\n",
    "        \n",
    "        return self.loc == self.neighborhood.taco_bell\n",
    "        \n",
    "    \n",
    "    def __repr__(self):\n",
    "        return '{} at {}'.format(self.name, self.loc)"
   ]
  },
  {
   "cell_type": "markdown",
   "metadata": {},
   "source": [
    "Now simulate 1,000 samples for how many blocks Dan will need to travel in order to make it to Taco Bell from the party.  Report the expected number of blocks Dan must travel to get some delicious chalupas."
   ]
  },
  {
   "cell_type": "code",
   "execution_count": 93,
   "metadata": {},
   "outputs": [
    {
     "name": "stdout",
     "output_type": "stream",
     "text": [
      "Expected number of blocks traveled for Dan is:  84.744\n"
     ]
    }
   ],
   "source": [
    "def dans_simulation():\n",
    "    dans_hood = Neighborhood(8,5,(2,1))\n",
    "    Dan = Dans_Agent('Dan', (6,3), dans_hood)\n",
    "\n",
    "    while not Dan.at_taco_bell():\n",
    "        move = Dan.random_move()\n",
    "        Dan.walk(move)\n",
    "    \n",
    "    return Dan.blocks\n",
    "        \n",
    "num_of_blocks = [dans_simulation() for i in range(1000)]\n",
    "\n",
    "print('Expected number of blocks traveled for Dan is: ', np.mean(num_of_blocks))"
   ]
  },
  {
   "cell_type": "markdown",
   "metadata": {},
   "source": [
    "<a/ id='p3e'></a>\n",
    "\n",
    "### (3e)\n",
    "\n",
    "What is Dan's expected time of first return to Taco Bell, as measured by the number of blocks traveled?"
   ]
  },
  {
   "cell_type": "code",
   "execution_count": 70,
   "metadata": {},
   "outputs": [
    {
     "name": "stdout",
     "output_type": "stream",
     "text": [
      "Expected blocks traveled until first return for Dan is:  41.338\n"
     ]
    }
   ],
   "source": [
    "def dans_first_return():\n",
    "    hood = Neighborhood(8,5,(2,1))\n",
    "    Dan = Dans_Agent('Dan', (2,1), hood)\n",
    "    \n",
    "    move = Dan.random_move()\n",
    "    Dan.walk(move)\n",
    "    \n",
    "    while not Dan.at_taco_bell():\n",
    "        move = Dan.random_move()\n",
    "        Dan.walk(move)\n",
    "    \n",
    "    return Dan.blocks\n",
    "        \n",
    "num_of_blocks = [dans_first_return() for i in range(1000)]\n",
    "\n",
    "print('Expected blocks traveled until first return for Dan is: ', np.mean(num_of_blocks))"
   ]
  },
  {
   "cell_type": "markdown",
   "metadata": {},
   "source": [
    "### (3f)\n",
    "\n",
    "Consider the smaller neighborhood depicted below, with only 3 north-south streets, 2 east-west streets, and a Taco Bell located at $(1,1)$.\n",
    "\n",
    "<img src=\"http://www.cs.colorado.edu/~tonyewong/home/resources/random_walk_to_taco_bell_small.png\" style=\"width: 250px;\"/>\n",
    "\n",
    "There are 6 distinct states in the state space, one for each of the 6 intersections.  Recall that the transition probability matrix denotes the probability of moving from the state given by the row of the matrix to the state given by the column.\n",
    "\n",
    "Recall that the transition probability matrix is given by\n",
    "\n",
    "$$T = \\left[\\begin{array}{cccccc} \n",
    "  q((0,0),(0,0)) & q((0,0),(1,0)) & q((0,0),(2,0)) & q((0,0),(0,1)) & q((0,0),(1,1)) & q((0,0),(2,1)) \\\\\n",
    "  q((1,0),(0,0)) & q((1,0),(1,0)) & q((1,0),(2,0)) & q((1,0),(0,1)) & q((1,0),(1,1)) & q((1,0),(2,1)) \\\\\n",
    "  q((2,0),(0,0)) & q((2,0),(1,0)) & q((2,0),(2,0)) & q((2,0),(0,1)) & q((2,0),(1,1)) & q((2,0),(2,1)) \\\\\n",
    "  q((0,1),(0,0)) & q((0,1),(1,0)) & q((0,1),(2,0)) & q((0,1),(0,1)) & q((0,1),(1,1)) & q((0,1),(2,1)) \\\\\n",
    "  q((1,1),(0,0)) & q((1,1),(1,0)) & q((1,1),(2,0)) & q((1,1),(0,1)) & q((1,1),(1,1)) & q((1,1),(2,1)) \\\\\n",
    "  q((2,1),(0,0)) & q((2,1),(1,0)) & q((2,1),(2,0)) & q((2,1),(0,1)) & q((2,1),(1,1)) & q((2,1),(2,1)) \\\\  \n",
    "\\end{array} \\right]$$\n",
    "\n",
    "where $q(s_1, s_2)$ is the probability of moving from state $s_1$ to state $s_2$ in one step.\n",
    "\n",
    "**For example:**  If Dan is currently at $(1,0)$, then:\n",
    "* $q((1,0),(0,0))=0.6$\n",
    "* $q((1,0),(2,0))=0.2$\n",
    "* $q((1,0),(1,1))=0.2$\n",
    "* $q((1,0),(0,1))=q((1,0),(2,1))=0$\n",
    "* $q((1,0),(1,0))=0$ because Dan must move somewhere.\n",
    "\n",
    "This row is already filled in for you.\n",
    "\n",
    "Finish filling in the rest of the transition probability matrices below for each of Chris and Dan."
   ]
  },
  {
   "cell_type": "code",
   "execution_count": 97,
   "metadata": {},
   "outputs": [],
   "source": [
    "T_dan = np.array([[ 0 , 0.5,  0 , 0.5,  0 , 0  ],\n",
    "                  [0.6,  0 , 0.2,  0 , 0.2, 0  ],\n",
    "                  [ 0 , 0.6,  0 ,  0 ,  0 ,0.4 ],\n",
    "                  [0.5,  0 ,  0 ,  0 , 0.5, 0  ],\n",
    "                  [ 0 , 0.2,  0 , 0.6,  0 ,0.2 ],\n",
    "                  [ 0 ,  0 , 0.4,  0 , 0.6, 0  ]])\n",
    "\n",
    "T_chris = np.array([[ 0 ,0.5 , 0  , 0.5,  0 , 0  ],\n",
    "                    [0.33, 0 ,0.33, 0  ,0.33, 0  ],\n",
    "                    [ 0 , 0.5,  0 , 0  , 0 , 0.5 ],\n",
    "                    [0.5,  0 ,  0 , 0  ,0.5,  0  ],\n",
    "                    [ 0 ,0.33,  0 ,0.33, 0 ,0.33 ],\n",
    "                    [ 0 ,  0 , 0.5, 0  ,0.5,  0  ]])"
   ]
  },
  {
   "cell_type": "markdown",
   "metadata": {},
   "source": [
    "Use your transition probability matrices to estimate the probabilities (independently) that each of Chris and Dan will be at Taco Bell in 2 moves, given that they starts at $(0,0)$."
   ]
  },
  {
   "cell_type": "code",
   "execution_count": 102,
   "metadata": {},
   "outputs": [
    {
     "name": "stdout",
     "output_type": "stream",
     "text": [
      "Probability that Dan will be at Taco Bell in 2 moves is 0.35\n",
      "Probability that Chris will be at Taco Bell in 2 moves is 0.41500000000000004\n"
     ]
    }
   ],
   "source": [
    "new_dan = T_dan\n",
    "new_chris = T_chris\n",
    "Dan_two_moves = np.matmul(new_dan, T_dan)\n",
    "Chris_two_moves = np.matmul(new_chris, T_chris)\n",
    "print('Probability that Dan will be at Taco Bell in 2 moves is', Dan_two_moves[0][4])\n",
    "print('Probability that Chris will be at Taco Bell in 2 moves is', Chris_two_moves[0][4])"
   ]
  },
  {
   "cell_type": "markdown",
   "metadata": {},
   "source": [
    "What is the probability that either are at Taco Bell after 3 moves, if they start from $(0,0)$?  Why is this?"
   ]
  },
  {
   "cell_type": "markdown",
   "metadata": {},
   "source": [
    "**Your answer:**"
   ]
  },
  {
   "cell_type": "code",
   "execution_count": 104,
   "metadata": {},
   "outputs": [
    {
     "name": "stdout",
     "output_type": "stream",
     "text": [
      "Probability that Dan will be at Taco Bell in 3 moves is 0.0\n",
      "Probability that Chris will be at Taco Bell in 3 moves is 0.0\n"
     ]
    }
   ],
   "source": [
    "Dan_three_moves = np.matmul(Dan_two_moves, T_dan)\n",
    "Chris_three_moves = np.matmul(Chris_two_moves, T_chris)\n",
    "print('Probability that Dan will be at Taco Bell in 3 moves is', Dan_three_moves[0][4])\n",
    "print('Probability that Chris will be at Taco Bell in 3 moves is', Chris_three_moves[0][4])"
   ]
  },
  {
   "cell_type": "markdown",
   "metadata": {},
   "source": [
    "##### This is the case because starting at point $(0,0)$ and after making three moves, it's impossible to land on the point $(1,1)$"
   ]
  },
  {
   "cell_type": "markdown",
   "metadata": {},
   "source": [
    "<a/ id='p3g'></a>\n",
    "\n",
    "### (3g)\n",
    "\n",
    "If Chris and Dan both spend all of their time walking around and eating at Taco Bell, what is the long-run proportion of Chris and Dan's time that each will spend at Taco Bell?  That is, if you run the random walk simulation for a very, very long time, what is your estimate for the proportion of states in the Markov chain that are at Taco Bell?\n",
    "\n",
    "First, estimate these probabilities using long Markov chain random walk simulations for each of Chris and Dan. About 100,000 moves should be enough to stabilize your estimates."
   ]
  },
  {
   "cell_type": "code",
   "execution_count": 119,
   "metadata": {},
   "outputs": [
    {
     "name": "stdout",
     "output_type": "stream",
     "text": [
      "Dan spends 0.21922 % of his time at Taco Bell\n",
      "Chris spends 0.2151 % of his time at Taco Bell\n"
     ]
    }
   ],
   "source": [
    "hood = Neighborhood(3,2,(1,1))\n",
    "Dan = Dans_Agent('Dan', (0,0), hood)\n",
    "Chris = Agent('Chris', (0,0), hood)\n",
    "\n",
    "Dan_taco_bell, Chris_taco_bell = 0,0\n",
    "for i in range(100000):\n",
    "    dan_move = Dan.random_move()\n",
    "    chris_move = Chris.random_move()\n",
    "    \n",
    "    Dan.walk(dan_move)\n",
    "    Chris.walk(chris_move)\n",
    "    \n",
    "    if Dan.at_taco_bell():\n",
    "        Dan_taco_bell += 1\n",
    "    if Chris.at_taco_bell():\n",
    "        Chris_taco_bell += 1\n",
    "    \n",
    "print('Dan spends', Dan_taco_bell/100000, '% of his time at Taco Bell')\n",
    "print('Chris spends', Chris_taco_bell/100000,'% of his time at Taco Bell')\n",
    "    "
   ]
  },
  {
   "cell_type": "markdown",
   "metadata": {},
   "source": [
    "Now estimate these probabilities using your transition probability matrices.  You should notice something a little bit strange when you compare these results against those from the simulations above.  Provide a couple sentences interpreting these results."
   ]
  },
  {
   "cell_type": "code",
   "execution_count": 122,
   "metadata": {},
   "outputs": [
    {
     "name": "stdout",
     "output_type": "stream",
     "text": [
      "Dan \n",
      " [[0.47368421 0.         0.13157895 0.         0.39473684 0.        ]\n",
      " [0.         0.39473684 0.         0.47368421 0.         0.13157895]\n",
      " [0.47368421 0.         0.13157895 0.         0.39473684 0.        ]\n",
      " [0.         0.39473684 0.         0.47368421 0.         0.13157895]\n",
      " [0.47368421 0.         0.13157895 0.         0.39473684 0.        ]\n",
      " [0.         0.39473684 0.         0.47368421 0.         0.13157895]]\n",
      "\n",
      "Chris \n",
      " [[5.99503073e-188 0.00000000e+000 5.99503073e-188 0.00000000e+000\n",
      "  9.00545851e-188 0.00000000e+000]\n",
      " [0.00000000e+000 8.92820557e-188 0.00000000e+000 5.94360262e-188\n",
      "  0.00000000e+000 5.94360262e-188]\n",
      " [5.99503073e-188 0.00000000e+000 5.99503073e-188 0.00000000e+000\n",
      "  9.00545851e-188 0.00000000e+000]\n",
      " [0.00000000e+000 9.00545851e-188 0.00000000e+000 5.99503073e-188\n",
      "  0.00000000e+000 5.99503073e-188]\n",
      " [5.94360262e-188 0.00000000e+000 5.94360262e-188 0.00000000e+000\n",
      "  8.92820557e-188 0.00000000e+000]\n",
      " [0.00000000e+000 9.00545851e-188 0.00000000e+000 5.99503073e-188\n",
      "  0.00000000e+000 5.99503073e-188]]\n"
     ]
    }
   ],
   "source": [
    "new_dan = T_dan\n",
    "new_chris = T_chris\n",
    "for k in range(1,100000):\n",
    "    new_dan = np.matmul(new_dan, T_dan)\n",
    "    new_chris = np.matmul(new_chris, T_chris)\n",
    "    \n",
    "print('Dan \\n', new_dan)\n",
    "print('\\nChris \\n', new_chris)"
   ]
  },
  {
   "cell_type": "markdown",
   "metadata": {},
   "source": [
    "**Your answer:**"
   ]
  },
  {
   "cell_type": "code",
   "execution_count": null,
   "metadata": {
    "collapsed": true
   },
   "outputs": [],
   "source": []
  },
  {
   "cell_type": "markdown",
   "metadata": {
    "collapsed": true
   },
   "source": [
    "<br><br><br>\n",
    "\n",
    "<a id='helpers'></a>\n",
    "\n",
    "---\n",
    "\n",
    "[Back to top](#top)\n",
    "\n",
    "## Some things that might be useful\n",
    "\n",
    "Easiest way to start:  Click this cell, go to \"Cell\" in the toolbar above, and click \"Run All Below\""
   ]
  },
  {
   "cell_type": "code",
   "execution_count": 52,
   "metadata": {},
   "outputs": [],
   "source": [
    "from scipy import stats\n",
    "import unittest\n",
    "import numpy as np\n",
    "import pandas as pd\n",
    "import matplotlib.pyplot as plt"
   ]
  },
  {
   "cell_type": "markdown",
   "metadata": {},
   "source": [
    "## Unit tests"
   ]
  },
  {
   "cell_type": "code",
   "execution_count": 53,
   "metadata": {},
   "outputs": [],
   "source": [
    "class Tests_Problem1(unittest.TestCase):\n",
    "    def setUp(self):\n",
    "        self.p1 = BayesNode('p1', '', [T,F], 0.3)\n",
    "        self.p2 = BayesNode('p2', '', [T,F], 0.6)\n",
    "        self.c  = BayesNode('c', ['p1', 'p2'], [T,F], {(T,T):0.1, (T,F):0.2, (F,T):0.3, (F,F):0.4})\n",
    "    def test_onenode(self):\n",
    "        self.assertEqual(P(self.p1, T), 0.3)\n",
    "    def test_twonode(self):\n",
    "        self.assertEqual(P(self.c, F, {'p1':T, 'p2':F}), 0.8)\n",
    "        \n",
    "class Tests_Problem3(unittest.TestCase):\n",
    "    def test_moves_corner(self):\n",
    "        nh = Neighborhood(2,2, (1,1))\n",
    "        chris = Agent('Chris', (0,0), nh)\n",
    "        self.assertTrue(((1,0) in chris.available_moves()) and ((0,1) in chris.available_moves()))\n",
    "    def test_moves_center(self):\n",
    "        nh = Neighborhood(3,3, (1,1))\n",
    "        chris = Agent('Chris', (1,1), nh)\n",
    "        self.assertTrue(((1,0) in chris.available_moves()) and ((0,1) in chris.available_moves()) and\n",
    "                        ((1,2) in chris.available_moves()) and ((2,1) in chris.available_moves()))\n",
    "    def test_tacos(self):\n",
    "        nh = Neighborhood(3,3, (1,1))\n",
    "        chris = Agent('Chris', (1,1), nh)\n",
    "        self.assertTrue(chris.at_taco_bell())"
   ]
  },
  {
   "cell_type": "markdown",
   "metadata": {},
   "source": [
    "[Back to top](#top)"
   ]
  }
 ],
 "metadata": {
  "kernelspec": {
   "display_name": "Python 3",
   "language": "python",
   "name": "python3"
  },
  "language_info": {
   "codemirror_mode": {
    "name": "ipython",
    "version": 3
   },
   "file_extension": ".py",
   "mimetype": "text/x-python",
   "name": "python",
   "nbconvert_exporter": "python",
   "pygments_lexer": "ipython3",
   "version": "3.6.0"
  }
 },
 "nbformat": 4,
 "nbformat_minor": 2
}
