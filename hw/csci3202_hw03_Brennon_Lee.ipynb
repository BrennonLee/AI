{
 "cells": [
  {
   "cell_type": "markdown",
   "metadata": {},
   "source": [
    "<a id='top'></a>\n",
    "\n",
    "# CSCI 3202, Spring 2018\n",
    "# Assignment 3\n",
    "# Due:  Wednesday 28 February 2018 by 12:00 PM\n",
    "\n",
    "<br>\n",
    "\n",
    "### Your name: Brennon Lee\n",
    "\n",
    "<br>\n",
    "\n",
    "**Note:** Some packages to load, helper functions and unit tests are defined at [the bottom of this notebook](#helpers)\n",
    "\n",
    "Shortcuts:  [top](#top) || [1](#p1) | [1a](#p1a) | [1b](#p1b) | [1c](#p1c) | [1d](#p1d) | [1e](#p1e) || [2](#p2) | [2a](#p2a) | [2b](#p2b) | [2c](#p2c) | [2d](#p2d) | [2e](#p2e) | [2f](#p2f) || [helpers](#helpers)"
   ]
  },
  {
   "cell_type": "markdown",
   "metadata": {},
   "source": [
    "---\n",
    "\n",
    "<a id='p1'></a>[Back to top](#top)\n",
    "\n",
    "## Problem 1\n",
    "\n",
    "### Still trying to Escape from Chicago\n",
    "\n",
    "Well, it turns out Snake lived through his perilous trip to New York City.  He returned to Chicago, where he is living happily among the criminals, sea lions and criminal sea lions.\n",
    "\n",
    "During Snake's time on the east coast, he came to realize that the soothing Atlantic Ocean air does wonders for his nerves. Living in the penal colony of Chicago is just so stressful! So he has decided to pack up and move to Providence, Rhode Island.\n",
    "\n",
    "Because Snake has traveled across the country already, he has some prior knowledge regarding how far various cities along the way are from his final destination of Providence.  In particular, Snake maps out the **straight-line distance** from major cities to Providence. This information is displayed graphically below, on a tattoo on Kurt Russell's forearm (you can't prove that isn't true), and in the `sld_providence` dictionary in the [helper functions](#helper) at the bottom of this notebook.\n",
    "\n",
    "Also note that because it doesn't make much sense to add estimated travel times and the straight-line distance, we will only be using the `map_distances` state space graph for this problem.\n",
    "\n",
    "**map_distances**          |  **sld_providence**\n",
    ":-------------------------:|:-------------------------:\n",
    "<img src=\"http://www.cs.colorado.edu/~tonyewong/home/resources/us_map_distances.png\" style=\"width: 500px;\"/>  | <img src=\"http://www.cs.colorado.edu/~tonyewong/home/resources/us_map_heuristicSLD.png\" style=\"width: 500px;\"/>\n",
    "\n",
    "\n",
    "<a id='p1a'></a>\n",
    "### (1a)\n",
    "\n",
    "Modify your code for uniform-cost search from Homework 2 so that it provides optionally as output the number of nodes **expanded** in completing the search. \n",
    "\n",
    "Include a new optional logical (True/False) argument **return_nexp**, so your function calls to the new uniform cost search will look like: `uniform_cost(start, goal, state_graph, return_cost, return_nexp)`.\n",
    "* If `return_nexp` is True, then the last output in the output tuple should be the number of nodes expanded.\n",
    "* If `return_nexp` is False, then the code should behave exactly as it did in Homework 2.\n",
    "\n",
    "Then, verify that your revised codes are working by checking Snake's optimal route from Chicago to New York. Include the number of nodes expanded and the path cost (using `map_distances`)."
   ]
  },
  {
   "cell_type": "code",
   "execution_count": 4,
   "metadata": {},
   "outputs": [],
   "source": [
    "class Frontier_PQ:\n",
    "    def __init__(self, start, cost):\n",
    "        self.start = start\n",
    "        self.cost = cost\n",
    "        self.states= {}# dic of states on fronter w/ min path cost to arrive\n",
    "        self.q = [] # tuple list of (cost, state)\n",
    "        \n",
    "    def add(self, state, cost):\n",
    "        self.states[state] = cost\n",
    "        heapq.heappush(self.q, (cost, state))\n",
    "        return \n",
    "    \n",
    "    def pop(self):\n",
    "        return heapq.heappop(self.q)\n",
    "    \n",
    "    def replace(self, state, cost):\n",
    "        del self.states[state]\n",
    "        self.states[state] = cost\n",
    "        return \n",
    "    \n"
   ]
  },
  {
   "cell_type": "code",
   "execution_count": 5,
   "metadata": {},
   "outputs": [],
   "source": [
    "def uniform_cost(start, goal, state_graph, return_cost, return_nexp):\n",
    "    explored = {}\n",
    "    frontier = Frontier_PQ(start, 0)\n",
    "    \n",
    "    explored[start] = (None)\n",
    "    frontier.add(start, 0)\n",
    "    nexp = 0\n",
    "\n",
    "    while frontier.q:\n",
    "        \n",
    "        parent = frontier.pop()[1]\n",
    "#         print('ucs', parent)\n",
    "        nexp += 1\n",
    "        if (parent == goal):\n",
    "            goalPath = path(explored, goal)\n",
    "            if not return_nexp:\n",
    "                return (goalPath, pathcost(goalPath, state_graph)) if return_cost else goalPath\n",
    "            else:\n",
    "                 return (goalPath, pathcost(goalPath, state_graph), nexp) if (return_cost, nexp) else goalPath\n",
    "        \n",
    "        for child in state_graph[parent]:\n",
    "            if child in frontier.states:\n",
    "                tempPath = {}\n",
    "                tempPath[parent] = (None)\n",
    "                tempPath[child] = parent\n",
    "                tempPathCost = pathcost(path(tempPath, child), state_graph)\n",
    "\n",
    "                if (frontier.states[parent] + tempPathCost < frontier.states[child]):\n",
    "                    frontier.replace(child, tempPathCost + frontier.states[parent])\n",
    "                    explored[child] = parent\n",
    "\n",
    "            if child not in frontier.states:\n",
    "                explored[child] = parent\n",
    "                childPath = path(explored, child)\n",
    "                childCost = pathcost(childPath, state_graph)\n",
    "                frontier.add(child, childCost)\n",
    "    return"
   ]
  },
  {
   "cell_type": "markdown",
   "metadata": {},
   "source": [
    "#### Unit tests"
   ]
  },
  {
   "cell_type": "code",
   "execution_count": 6,
   "metadata": {},
   "outputs": [
    {
     "name": "stderr",
     "output_type": "stream",
     "text": [
      "...\n",
      "----------------------------------------------------------------------\n",
      "Ran 3 tests in 0.004s\n",
      "\n",
      "OK\n"
     ]
    },
    {
     "data": {
      "text/plain": [
       "<unittest.runner.TextTestResult run=3 errors=0 failures=0>"
      ]
     },
     "execution_count": 6,
     "metadata": {},
     "output_type": "execute_result"
    }
   ],
   "source": [
    "tests_to_run = unittest.TestSuite()\n",
    "tests_to_run.addTest(Tests_Problem1('test_ucs_route'))\n",
    "tests_to_run.addTest(Tests_Problem1('test_ucs_cost'))\n",
    "tests_to_run.addTest(Tests_Problem1('test_ucs_nexp'))\n",
    "unittest.TextTestRunner().run(tests_to_run)"
   ]
  },
  {
   "cell_type": "markdown",
   "metadata": {},
   "source": [
    "<br>\n",
    "\n",
    "<a/ id='p1b'></a>\n",
    "\n",
    "### (1b)\n",
    "\n",
    "#### Heuristic function\n",
    "\n",
    "Define a function to take as an argument the `state` that Snake is in (city on our graphs), and return as output the value of the straight-line distance heuristic, between Snake's `state` and Providence.  Note that your function should be quite short, and amounts to looking up the proper value from the `sld_providence` dictionary defined in the [helper functions](#helper).  Call this function `heuristic_sld_providence`.\n",
    "\n",
    "This might seem sort of silly right now, but it will make your codes much easier to adapt in Problem 2."
   ]
  },
  {
   "cell_type": "code",
   "execution_count": 7,
   "metadata": {},
   "outputs": [],
   "source": [
    "def heuristic_sld_providence(state):\n",
    "    return sld_providence[state]"
   ]
  },
  {
   "cell_type": "markdown",
   "metadata": {},
   "source": [
    "#### Unit tests"
   ]
  },
  {
   "cell_type": "code",
   "execution_count": 8,
   "metadata": {},
   "outputs": [
    {
     "name": "stderr",
     "output_type": "stream",
     "text": [
      ".\n",
      "----------------------------------------------------------------------\n",
      "Ran 1 test in 0.001s\n",
      "\n",
      "OK\n"
     ]
    },
    {
     "data": {
      "text/plain": [
       "<unittest.runner.TextTestResult run=1 errors=0 failures=0>"
      ]
     },
     "execution_count": 8,
     "metadata": {},
     "output_type": "execute_result"
    }
   ],
   "source": [
    "tests_to_run = unittest.TestSuite()\n",
    "tests_to_run.addTest(Tests_Problem1(\"test_sld_providence\"))\n",
    "unittest.TextTestRunner().run(tests_to_run)"
   ]
  },
  {
   "cell_type": "markdown",
   "metadata": {},
   "source": [
    "<br>\n",
    "\n",
    "<a/ id='p1c'></a>\n",
    "\n",
    "### (1c)\n",
    "\n",
    "#### Full-blown A\\* search\n",
    "\n",
    "We are finally ready to help Snake use his knowledge of straight-line distances from various cities to Providence to inform his path-finding from Chicago to Providence!\n",
    "\n",
    "Modify your uniform-cost search codes from **(1a)** even further so that they now perform **A\\* search**, using as the heuristic function the straight-line distance to Providence.\n",
    "\n",
    "Provide `heuristic` as an additional argument, which should just be the function name to call within the A\\* code. So your call to the A\\* routine should look like:  `astar_search(start, goal, state_graph, heuristic, return_cost, return_nexp)`.  (This kind of modular programming will make it much easier to swap in alternative heuristic functions later, and also helps to facilitate debugging if something goes wrong.)"
   ]
  },
  {
   "cell_type": "code",
   "execution_count": 9,
   "metadata": {},
   "outputs": [],
   "source": [
    "class Frontier_PQ_astar:\n",
    "    def __init__(self, start, cost):\n",
    "        self.start = start\n",
    "        self.cost = cost\n",
    "        self.states= {} # dic of states on fronter w/ min path cost to arrive\n",
    "        self.q = [] # tuple list of (cost, state)\n",
    "        \n",
    "    def add(self, state, cost, hcost):\n",
    "        self.states[state] = cost\n",
    "        heapq.heappush(self.q, (hcost + cost, state))\n",
    "        return \n",
    "    \n",
    "    def pop(self):\n",
    "        return heapq.heappop(self.q)\n",
    "    \n",
    "    def replace(self, state, cost, hcost):\n",
    "        del self.states[state]\n",
    "        self.states[state] = cost\n",
    "        heapq.heapreplace(self.q, (hcost + cost, state))\n",
    "        return \n",
    "\n",
    "def astar_search(start, goal, state_graph, heuristic, return_cost, return_nexp):\n",
    "    explored = {}\n",
    "    frontier = Frontier_PQ_astar(start, 0)\n",
    "    \n",
    "    explored[start] = (None)\n",
    "    frontier.add(start, 0, heuristic(start))\n",
    "    nexp = 0\n",
    "\n",
    "    while frontier.q:\n",
    "        parentTcost, parent = frontier.pop()\n",
    "        nexp += 1\n",
    "        if (parent == goal):\n",
    "            goalPath = path(explored, goal)\n",
    "            if not return_nexp:\n",
    "                return (goalPath, pathcost(goalPath, state_graph)) if return_cost else goalPath\n",
    "            else:\n",
    "                return (goalPath, pathcost(goalPath, state_graph), nexp) if (return_cost, nexp) else goalPath\n",
    "        \n",
    "        for child in state_graph[parent]:\n",
    "            \n",
    "            tempPath = {}\n",
    "            tempPath[parent] = (None)\n",
    "            tempPath[child] = parent\n",
    "            tempPathCost = pathcost(path(tempPath, child), state_graph)\n",
    "            g_n = frontier.states[parent] + tempPathCost\n",
    "            h_n = heuristic(child)\n",
    "            f_n = g_n + h_n\n",
    "\n",
    "            if child in frontier.states:\n",
    "                if (g_n  < frontier.states[child]):\n",
    "                    frontier.replace(child, g_n, h_n)\n",
    "                    explored[child] = parent\n",
    "\n",
    "            if child not in frontier.states:\n",
    "                explored[child] = parent\n",
    "                childPath = path(explored, child)\n",
    "                childCost = pathcost(childPath, state_graph)\n",
    "                frontier.add(child, childCost, h_n)\n",
    "                \n",
    "    return"
   ]
  },
  {
   "cell_type": "markdown",
   "metadata": {},
   "source": [
    "#### Unit tests"
   ]
  },
  {
   "cell_type": "code",
   "execution_count": 10,
   "metadata": {
    "scrolled": true
   },
   "outputs": [
    {
     "name": "stderr",
     "output_type": "stream",
     "text": [
      "...\n",
      "----------------------------------------------------------------------\n",
      "Ran 3 tests in 0.003s\n",
      "\n",
      "OK\n"
     ]
    },
    {
     "data": {
      "text/plain": [
       "<unittest.runner.TextTestResult run=3 errors=0 failures=0>"
      ]
     },
     "execution_count": 10,
     "metadata": {},
     "output_type": "execute_result"
    }
   ],
   "source": [
    "tests_to_run = unittest.TestSuite()\n",
    "tests_to_run.addTest(Tests_Problem1(\"test_astar_path\"))\n",
    "tests_to_run.addTest(Tests_Problem1(\"test_astar_cost\"))\n",
    "tests_to_run.addTest(Tests_Problem1(\"test_astar_nexp\"))\n",
    "unittest.TextTestRunner().run(tests_to_run)"
   ]
  },
  {
   "cell_type": "markdown",
   "metadata": {},
   "source": [
    "<br>\n",
    "\n",
    "<a/ id='p1d'></a>\n",
    "\n",
    "### (1d)\n",
    "\n",
    "Snake has already made it to Buffalo on his own, but he is growing weary.  There were ***so*** many sea lions along the way, and he had to stop and admire their grace and beauty.  Use your A\\* search code from **(1c)** to help Snake find the optimal path **by distance traveled** the rest of the way to Providence.  Print to the screen the following:\n",
    "1. the optimal path\n",
    "2. the optimal path cost (miles traveled)\n",
    "3. the number of states expanded during the A\\* search\n",
    "\n",
    "Additionally, show below how many states must be expanded to find the optimal path from Buffalo to Providence using the regular old uniform-cost search algorithm from **(1a)**.  Comment on the difference in states that must be explored by each algorithm.\n",
    "\n",
    "**Sanity check:** No matter what your `start` and `goal` states are, how should the output from `astar_search` and `uniform_cost` search compare?"
   ]
  },
  {
   "cell_type": "code",
   "execution_count": 11,
   "metadata": {},
   "outputs": [
    {
     "name": "stdout",
     "output_type": "stream",
     "text": [
      "Optimal Path: ['buf', 'syr', 'bos', 'pro']\n",
      "Path cost is 512 miles\n",
      "# of states expanded by A* is 4\n",
      "# of states expanded by UCS is 14\n"
     ]
    }
   ],
   "source": [
    "astar_path, astar_cost, astar_nexp = astar_search('buf','pro', map_distances, heuristic_sld_providence, return_cost=True, return_nexp=True)\n",
    "print('Optimal Path:', astar_path)\n",
    "print('Path cost is', astar_cost, 'miles')\n",
    "print('# of states expanded by A* is', astar_nexp)\n",
    "usc_path, usc_cost, usc_nexp = uniform_cost('buf','pro',map_distances, return_cost=True, return_nexp=True)\n",
    "print('# of states expanded by UCS is',usc_nexp)"
   ]
  },
  {
   "cell_type": "markdown",
   "metadata": {},
   "source": [
    "##### The number of states expanded by UCS is much higher than that of astar_search (as it should be). astar_search has its restriction on what states are to be expanded on next using our heuristic function compared to uniform_cost which just goes crazy and expands all over the place."
   ]
  },
  {
   "cell_type": "markdown",
   "metadata": {},
   "source": [
    "<br>\n",
    "\n",
    "<a/ id='p1e'></a>\n",
    "\n",
    "### (1e)\n",
    "\n",
    "How many states are expanded by each of A\\* search and uniform cost search, to find the optimal path **from Philadelphia to Providence**?"
   ]
  },
  {
   "cell_type": "code",
   "execution_count": 12,
   "metadata": {},
   "outputs": [
    {
     "name": "stdout",
     "output_type": "stream",
     "text": [
      "states expanded by A* search is 3\n",
      "states expanded by USC is 5\n"
     ]
    }
   ],
   "source": [
    "astar_path, astar_cost, astar_nexp = astar_search('phi','pro', map_distances, heuristic_sld_providence, return_cost=True, return_nexp=True)\n",
    "usc_path, usc_cost, usc_nexp = uniform_cost('phi','pro',map_distances, return_cost=True, return_nexp=True)\n",
    "print('states expanded by A* search is', astar_nexp)\n",
    "print('states expanded by USC is', usc_nexp)"
   ]
  },
  {
   "cell_type": "markdown",
   "metadata": {},
   "source": [
    "You should find that uniform cost search has explored more states than A\\* search.  Name the city/cities corresponding to the additional state expansions, and a brief justification for how you know these are being explored."
   ]
  },
  {
   "cell_type": "markdown",
   "metadata": {},
   "source": [
    "#### The additional state expansions in UCS are in `Baltimore` and in `Syracuse` I know these are the states being explored because we can throw in a simple print statement right after a state is being popped off of the Frontier to be explored. Comparing the states being popped off the frontier by each algorithm gives us the additional state expansions for UCS."
   ]
  },
  {
   "cell_type": "markdown",
   "metadata": {},
   "source": [
    "<br>\n",
    "\n",
    "---\n",
    "\n",
    "<br>\n",
    "\n",
    "[Back to top](#top)\n",
    "\n",
    "<a/ id='p2'></a>\n",
    "\n",
    "![8tile](http://www.8puzzle.com/images/8_puzzle_goal_state_b.png)\n",
    "\n",
    "## Problem 2\n",
    "\n",
    "### 8-tile puzzle\n",
    "\n",
    "Consider the 8-tile puzzle, as discussed in class.  The goal state is illustrated in the figure above, and the rest of the state space is obtained by sliding a numbered tile in the plane of the puzzle into the blank spot.  We can use a 0 to represent the blank space, and represent the state of an 8-tile puzzle board as a `numpy` array as follows:"
   ]
  },
  {
   "cell_type": "code",
   "execution_count": 13,
   "metadata": {},
   "outputs": [
    {
     "name": "stdout",
     "output_type": "stream",
     "text": [
      "Goal state is:\n",
      "[[0 1 2]\n",
      " [3 4 5]\n",
      " [6 7 8]]\n"
     ]
    }
   ],
   "source": [
    "goal = np.array([[0,1,2],[3,4,5],[6,7,8]])\n",
    "print('Goal state is:\\n{}'.format(goal))"
   ]
  },
  {
   "cell_type": "markdown",
   "metadata": {},
   "source": [
    "<br>\n",
    "\n",
    "<a/ id='p2a'></a>\n",
    "\n",
    "### (2a)\n",
    "\n",
    "Design two heuristic functions to return the **Manhattan distance** heuristic and the **number of misplaced tiles** heuristic.  These functions should be called `heuristic_manhattan` and `heuristic_misplaced`, and:\n",
    "* take two `numpy` array arguments, `state` and `goal`\n",
    "* `state` is the current state of an 8-tile board,\n",
    "* `goal` is the goal state to measure against,\n",
    "* return the appropriate heuristic value (Manhattan distance or misplaced tiles) for the estimated distance of the given `state` to the `goal`"
   ]
  },
  {
   "cell_type": "code",
   "execution_count": 14,
   "metadata": {},
   "outputs": [],
   "source": [
    "def heuristic_manhattan(state, goal):\n",
    "    distance = 0\n",
    "    goal_dict = {}\n",
    "    state_dict = {}\n",
    "    \n",
    "    for (x,y), value in np.ndenumerate(goal):\n",
    "        goal_dict[value] = (x,y)\n",
    "        \n",
    "    for (x,y), value in np.ndenumerate(state):\n",
    "        state_dict[value] = (x,y)\n",
    "        \n",
    "    for elm in state_dict:\n",
    "        if state_dict[elm] != goal_dict[elm]:\n",
    "            if (state_dict[elm][0] != goal_dict[elm][0]): # Get difference in rows\n",
    "                distance += abs(state_dict[elm][0] - goal_dict[elm][0])\n",
    "                \n",
    "            if (state_dict[elm][1] != goal_dict[elm][1]): # Get difference in columns\n",
    "                distance += abs(state_dict[elm][1] - goal_dict[elm][1])\n",
    "    return distance\n",
    "\n",
    "def heuristic_misplaced(state, goal):\n",
    "    misplaced = 0\n",
    "    for (x,y), value in np.ndenumerate(state):\n",
    "        if state[x][y] != goal[x][y]:\n",
    "            misplaced += 1\n",
    "    return misplaced\n"
   ]
  },
  {
   "cell_type": "markdown",
   "metadata": {},
   "source": [
    "#### Unit tests"
   ]
  },
  {
   "cell_type": "code",
   "execution_count": 15,
   "metadata": {},
   "outputs": [
    {
     "name": "stderr",
     "output_type": "stream",
     "text": [
      "..\n",
      "----------------------------------------------------------------------\n",
      "Ran 2 tests in 0.002s\n",
      "\n",
      "OK\n"
     ]
    },
    {
     "data": {
      "text/plain": [
       "<unittest.runner.TextTestResult run=2 errors=0 failures=0>"
      ]
     },
     "execution_count": 15,
     "metadata": {},
     "output_type": "execute_result"
    }
   ],
   "source": [
    "tests_to_run = unittest.TestSuite()\n",
    "tests_to_run.addTest(Tests_Problem2(\"test_manhattan\"))\n",
    "tests_to_run.addTest(Tests_Problem2(\"test_misplaced\"))\n",
    "unittest.TextTestRunner().run(tests_to_run)"
   ]
  },
  {
   "cell_type": "markdown",
   "metadata": {},
   "source": [
    "<br>\n",
    "\n",
    "<a/ id='p2b'></a>\n",
    "\n",
    "### (2b)\n",
    "\n",
    "#### Is this puzzle even solvable??\n",
    "\n",
    "It turns out that some arrangements of those 8 tiles are not possible to solve into the `goal` state given above. We would like to be able to check whether or not a given 8-tile puzzle board is solvable.\n",
    "\n",
    "Suppose you take the tiles of any given 8-tile puzzle board and arranged them in a single row, with the first row coming in order first, then the second row in order, and finally the third row in order.  So the goal state would be [1,2,3,4,5,6,7,8]. Another possible state is:"
   ]
  },
  {
   "cell_type": "code",
   "execution_count": 16,
   "metadata": {},
   "outputs": [
    {
     "name": "stdout",
     "output_type": "stream",
     "text": [
      "[[1 4 2]\n",
      " [3 0 5]\n",
      " [6 7 8]]\n"
     ]
    }
   ],
   "source": [
    "state_test = np.array([[1,4,2],[3,0,5],[6,7,8]])\n",
    "print(state_test)"
   ]
  },
  {
   "cell_type": "markdown",
   "metadata": {},
   "source": [
    "The state `state_test` is found by sliding the 1 tile to the blank spot, then sliding the 4 tile up to take the position formerly occupied by the 1 tile.  When we rearrange this state into a row, we obtain [1,4,2,3,5,6,7,8].\n",
    "\n",
    "We define an **inverted tile pair** to be a pair of tiles in the row representation of the puzzle that is out of order relative to the goal state. That is, each occurrence of a tile that has a higher value than another tile later in the row counts as an inversion.  So `state_test` has **two** inversions:  4 and 2, and 4 and 3.\n",
    "\n",
    "We define the **parity** of an 8-tile board to be the number of inversions in the puzzle board.  So the parity of `state_test` is 2, and the parity of `goal` is 0. An 8-tile puzzle board may be rearranged (within the rules of the game) into another board if the two boards have the same parity. So it would be very handy if we had a function to check whether or not an arbitrary arrangement of those 8 tiles can be solved for a given `goal` state.\n",
    "\n",
    "Write a function `check_parity(state1, state2)`:\n",
    "* take as arguments two `numpy` arrays representing 8-tile boards, `state1` and `state2`\n",
    "* return `True` if the two boards have the same parity and `False` otherwise"
   ]
  },
  {
   "cell_type": "code",
   "execution_count": 17,
   "metadata": {},
   "outputs": [],
   "source": [
    "def get_parity(state):\n",
    "    inversions=0\n",
    "    yValues = state.shape[0]\n",
    "    xValues = state.shape[1]\n",
    "    for (i,j), runner in np.ndenumerate(state):\n",
    "        for (x,y), val in np.ndenumerate(state):\n",
    "            if (x > i or (x==i and y >=j)): \n",
    "                if runner > val and (runner != 0 and val != 0):\n",
    "                    inversions += 1\n",
    "    return (inversions % 2)\n",
    "\n",
    "def check_parity(state1, state2):\n",
    "    parity1 = get_parity(state1)\n",
    "    parity2 = get_parity(state2)\n",
    "    return (parity1 == parity2)"
   ]
  },
  {
   "cell_type": "markdown",
   "metadata": {},
   "source": [
    "#### Unit tests"
   ]
  },
  {
   "cell_type": "code",
   "execution_count": 18,
   "metadata": {
    "scrolled": false
   },
   "outputs": [
    {
     "name": "stderr",
     "output_type": "stream",
     "text": [
      "..\n",
      "----------------------------------------------------------------------\n",
      "Ran 2 tests in 0.002s\n",
      "\n",
      "OK\n"
     ]
    },
    {
     "data": {
      "text/plain": [
       "<unittest.runner.TextTestResult run=2 errors=0 failures=0>"
      ]
     },
     "execution_count": 18,
     "metadata": {},
     "output_type": "execute_result"
    }
   ],
   "source": [
    "tests_to_run = unittest.TestSuite()\n",
    "tests_to_run.addTest(Tests_Problem2(\"test_parity_true\"))\n",
    "tests_to_run.addTest(Tests_Problem2(\"test_parity_false\"))\n",
    "unittest.TextTestRunner().run(tests_to_run)"
   ]
  },
  {
   "cell_type": "markdown",
   "metadata": {},
   "source": [
    "<br>\n",
    "\n",
    "<a/ id='p2c'></a>\n",
    "\n",
    "### (2c)\n",
    "\n",
    "Because your instructor is such a swell guy, the `map_distances` and `map_times` graphs were nicely defined. This meant that finding the successors of a given city in the route-finding homework problems amounted to looking up the values of that key in a dictionary. For the 8-tile problem, however, we do **not** want to try to build the entire state space graph in memory! Even if we can, it's just such a pain.\n",
    "\n",
    "Instead, let's write a function `adjacent_states`:\n",
    "* take a single input argument `state`, which is a `numpy` array representing an 8-tile board arrangement\n",
    "* return as output a list of `numpy` arrays that are the states one move away from the input `state`\n",
    "\n",
    "For example, if you run `adjacent_states(goal)`, the expected output should be\n",
    "\n",
    "`[array([[3, 1, 2], [0, 4, 5], [6, 7, 8]]),\n",
    " array([[1, 0, 2], [3, 4, 5], [6, 7, 8]])]`\n",
    "\n",
    "which are the states obtained from the `goal` state by sliding the 3 tile up and by sliding the 1 tile to the left, respectively."
   ]
  },
  {
   "cell_type": "code",
   "execution_count": 19,
   "metadata": {},
   "outputs": [],
   "source": [
    "def swap(tmp_state, i1, i2):\n",
    "    tmp = tmp_state[i1]\n",
    "    tmp_state[i1] = tmp_state[i2]\n",
    "    tmp_state[i2]= tmp\n",
    "    return tmp_state\n",
    "\n",
    "def adjacent_states(state):\n",
    "    dic = {}\n",
    "    ylim = state.shape[1]\n",
    "    xlim = state.shape[0]\n",
    "    moves = []\n",
    "    for (x,y), value in np.ndenumerate(state):\n",
    "        dic[value] = (x,y)\n",
    "    \n",
    "    (e1,e2) = dic[0]\n",
    "    if (e1-1 >= 0): #check top tile\n",
    "        tmp_state = np.array(state, copy=True)\n",
    "        new_move = swap(tmp_state, (e1-1, e2),(e1, e2))\n",
    "        moves.append(new_move)\n",
    "        \n",
    "    if (e1+1 < ylim): #check bottom tile\n",
    "        tmp_state = np.array(state, copy=True)\n",
    "        new_move = swap(tmp_state, (e1+1, e2),(e1, e2))\n",
    "        moves.append(new_move)\n",
    "        \n",
    "    if (e2-1 >= 0): # check left tile\n",
    "        tmp_state = np.array(state, copy=True)\n",
    "        new_move = swap(tmp_state, (e1, e2-1),(e1, e2))\n",
    "        moves.append(new_move)\n",
    "        \n",
    "    if (e2+1 < xlim): # Check right tile\n",
    "        tmp_state = np.array(state, copy=True)\n",
    "        new_move = swap(tmp_state, (e1, e2+1),(e1, e2))\n",
    "        moves.append(new_move)\n",
    "        \n",
    "    return moves"
   ]
  },
  {
   "cell_type": "markdown",
   "metadata": {},
   "source": [
    "#### Unit tests"
   ]
  },
  {
   "cell_type": "code",
   "execution_count": 20,
   "metadata": {
    "scrolled": true
   },
   "outputs": [
    {
     "name": "stderr",
     "output_type": "stream",
     "text": [
      ".\n",
      "----------------------------------------------------------------------\n",
      "Ran 1 test in 0.001s\n",
      "\n",
      "OK\n"
     ]
    },
    {
     "data": {
      "text/plain": [
       "<unittest.runner.TextTestResult run=1 errors=0 failures=0>"
      ]
     },
     "execution_count": 20,
     "metadata": {},
     "output_type": "execute_result"
    }
   ],
   "source": [
    "tests_to_run = unittest.TestSuite()\n",
    "tests_to_run.addTest(Tests_Problem2(\"test_adjacent\"))\n",
    "unittest.TextTestRunner().run(tests_to_run)"
   ]
  },
  {
   "cell_type": "markdown",
   "metadata": {},
   "source": [
    "<br>\n",
    "\n",
    "<a/ id='p2d'></a>\n",
    "\n",
    "### (2d)\n",
    "\n",
    "Modify your **A\\* search** from above so that instead of looking in the graphs `map_distances` or `map_times` for the successor states, it generates them on the fly using your shiny new `adjacent_states` routine from **(2c)**. \n",
    "\n",
    "Some notes:\n",
    "* You may run into some problems with using the `numpy` arrays to represent states. One potential solution is to convert these arrays to/from tuples, as needed. This is not the only solution.\n",
    "* When you start to test your code, be sure to begin with simple test cases that you know are only a few moves away from the goal state.\n",
    "* Be sure to implement a check to make sure the initial state is solvable for the given goal state!  And do not hard-code the goal state given above.\n",
    "* You may need to modify how path costs are added up and returned. The returned cost of the solution path ought to be the number of **moves** needed to solve the puzzle, which is one less than the number of states on the solution path.\n",
    "* Depending on how you implemented your Frontier Priority Queue, you may or may not need to make modifications to it. My implementation did not require any modification."
   ]
  },
  {
   "cell_type": "code",
   "execution_count": 21,
   "metadata": {},
   "outputs": [],
   "source": [
    "def getTuple(nparray):\n",
    "    return tuple(map(tuple, nparray))\n",
    "\n",
    "def getNarray(Tuple):\n",
    "    return np.asarray(Tuple)\n",
    "\n",
    "class Frontier_PQ_astar:\n",
    "    def __init__(self, start, cost):\n",
    "        self.start = start\n",
    "        self.cost = cost\n",
    "        self.states= {} # dic of states on fronter w/ min path cost to arrive\n",
    "        self.q = [] # tuple list of (cost, state)\n",
    "        \n",
    "    def add(self, state, cost, hcost):\n",
    "        self.states[state] = cost\n",
    "        heapq.heappush(self.q, (hcost + cost, state))\n",
    "        return \n",
    "    \n",
    "    def pop(self):\n",
    "        return heapq.heappop(self.q)\n",
    "    \n",
    "    def replace(self, state, cost, hcost):\n",
    "        del self.states[state]\n",
    "        self.states[state] = cost\n",
    "        heapq.heapreplace(self.q, (hcost + cost, state))\n",
    "        return \n",
    "\n",
    "def astar_search(start, goal, heuristic, return_cost, return_nexp):\n",
    "    if not(check_parity(start, goal)): # parity check\n",
    "        print('Not Solvable!')\n",
    "        return \n",
    "    \n",
    "    start_tuple = getTuple(start) # Turn np arrays to tuples for dictionaries\n",
    "    goal_tuple = getTuple(goal)\n",
    "    \n",
    "    explored = {}\n",
    "    frontier = Frontier_PQ_astar(start_tuple, 0)\n",
    "    \n",
    "    explored[start_tuple] = (None)\n",
    "    frontier.add(start_tuple, 0, heuristic(start_tuple, goal_tuple))\n",
    "    nexp = 0\n",
    "\n",
    "    while frontier.q:\n",
    "        parentTcost, parent = frontier.pop() #tuple at this point\n",
    "        nexp += 1\n",
    "        \n",
    "\n",
    "        if (parent == goal_tuple):\n",
    "            goalPath = path(explored, goal_tuple)\n",
    "            if not return_nexp:\n",
    "                return (goalPath, len(goalPath)-1) if return_cost else goalPath\n",
    "            else:\n",
    "                return (goalPath, len(goalPath)-1, nexp) if (return_cost, nexp) else goalPath\n",
    "        \n",
    "       \n",
    "        parentArray = getNarray(parent)\n",
    "        moves  = adjacent_states(parentArray)\n",
    "        for move in moves:\n",
    "            move_tuple = getTuple(move)\n",
    "            if move_tuple not in explored: # we havent made this move before\n",
    "                tempPath = {}\n",
    "                tempPath[parent] = (None)\n",
    "                tempPath[move_tuple] = parent\n",
    "                g_n = frontier.states[parent] + 1 # plus one for parent to child\n",
    "                h_n = heuristic(move_tuple, goal_tuple)\n",
    "                f_n = g_n + h_n\n",
    "\n",
    "                if move_tuple in frontier.states:\n",
    "                    if (g_n < frontier.states[move_tuple]):\n",
    "                        frontier.replace(move_tuple, g_n, h_n)\n",
    "                        explored[move_tuple] = parent\n",
    "                if move_tuple not in frontier.states:\n",
    "                    explored[move_tuple] = parent\n",
    "                    childCost = len(explored) - 1\n",
    "                    frontier.add(move_tuple, childCost, h_n)\n",
    "    return \n",
    "\n",
    "\n"
   ]
  },
  {
   "cell_type": "markdown",
   "metadata": {},
   "source": [
    "#### Unit tests\n",
    "\n",
    "Note that this will fail if your output path (first output slot) is not one of (1) a list of tuples, or (2) a list of `numpy` arrays."
   ]
  },
  {
   "cell_type": "code",
   "execution_count": 22,
   "metadata": {},
   "outputs": [
    {
     "name": "stderr",
     "output_type": "stream",
     "text": [
      ".\n",
      "----------------------------------------------------------------------\n",
      "Ran 1 test in 0.002s\n",
      "\n",
      "OK\n"
     ]
    },
    {
     "data": {
      "text/plain": [
       "<unittest.runner.TextTestResult run=1 errors=0 failures=0>"
      ]
     },
     "execution_count": 22,
     "metadata": {},
     "output_type": "execute_result"
    }
   ],
   "source": [
    "tests_to_run = unittest.TestSuite()\n",
    "tests_to_run.addTest(Tests_Problem2(\"test_astar_8tile\"))\n",
    "unittest.TextTestRunner().run(tests_to_run)"
   ]
  },
  {
   "cell_type": "markdown",
   "metadata": {},
   "source": [
    "<br>\n",
    "\n",
    "<a/ id='p2e'></a>\n",
    "\n",
    "### (2e)\n",
    "\n",
    "#### We need to generate some puzzles to test this out!\n",
    "\n",
    "Create a function `generate_puzzle(goal, n_moves)` to generate a solvable 8-tile puzzle by making `n_moves` random moves, starting from the `goal` state.\n",
    "* `goal` argument is a `numpy` array representing a valid 8-tile puzzle\n",
    "* `n_moves` is a positive integer argument.  For each of `n_moves` iterations, generate the set of all legal 8-tile puzzle moves (you might already have a nice function for this...) and select one at random.\n",
    "* When you generate the set of possible adjacent states to move to, remove any of the previous states from the list of possibilities.  This will avoid \"undoing\" any of the moves you've made to mix up the tiles, which is important because the point of this function is to generate tough puzzles for our codes to solve.\n",
    "* return as output a tuple:\n",
    "  * first element is the puzzle itself (as a `numpy` array)\n",
    "  * second element is the list of previous states, so you can see the list of moves made to generate this puzzle.  This will be helpful for checking if our A\\* codes are finding the correct solutions."
   ]
  },
  {
   "cell_type": "code",
   "execution_count": 23,
   "metadata": {},
   "outputs": [],
   "source": [
    "def delete(array, elm):\n",
    "    new_array = []\n",
    "    for each in array:\n",
    "        if not (each ==elm).all():\n",
    "            new_array.append(each)\n",
    "    return new_array\n",
    "\n",
    "def generate_puzzle(goal, n_moves):\n",
    "    if n_moves == 0:\n",
    "        return (goal, [])\n",
    "    \n",
    "    goalTuple = getTuple(goal)\n",
    "    \n",
    "    prev_states = {}\n",
    "    prev_states[goalTuple] = None\n",
    "    \n",
    "    parent = goal\n",
    "    parentTuple = goalTuple\n",
    "    \n",
    "    for move in range(0, n_moves):\n",
    "        possible_moves = adjacent_states(parent)\n",
    "        if len(possible_moves)-1 ==0:\n",
    "            choice = 0\n",
    "        else:\n",
    "            choice = np.random.choice(len(possible_moves)-1, 1)[0]\n",
    "\n",
    "        new_state = possible_moves[choice]\n",
    "        new_state_tuple = getTuple(new_state)\n",
    "          \n",
    "        while new_state_tuple in prev_states:\n",
    "            possible_moves = delete(possible_moves, new_state)\n",
    "            if (len(possible_moves)-1 == 0):\n",
    "                choice = 0\n",
    "            else:\n",
    "                choice = np.random.choice(len(possible_moves)-1, 1)[0]\n",
    "        \n",
    "            new_state = possible_moves[choice]\n",
    "            new_state_tuple = getTuple(new_state)\n",
    "        \n",
    "        prev_states[new_state_tuple] = parentTuple\n",
    "        parent = new_state\n",
    "        parentTuple = getTuple(parent)\n",
    "        \n",
    "    return (parent, prev_states)\n",
    "    \n",
    "   "
   ]
  },
  {
   "cell_type": "markdown",
   "metadata": {},
   "source": [
    "**Important question:** If you generate more complex puzzles (think 20 or more moves), there's a nontrivial probability that your A\\* search routine will be able to find a solution in *fewer* moves than the `n_moves` argument you supplied to `generate_puzzle` to create that very puzzle.\n",
    "1. Verify that this is the case with at least one example.\n",
    "2. Explain why this is the case."
   ]
  },
  {
   "cell_type": "code",
   "execution_count": 25,
   "metadata": {},
   "outputs": [
    {
     "name": "stdout",
     "output_type": "stream",
     "text": [
      "n_moves: 20\n",
      "Solution moves was 14\n"
     ]
    }
   ],
   "source": [
    "state_goal = np.array([[1,4,2],[6,3,5],[0,7,8]])\n",
    "\n",
    "state_puzzle, prev_states = generate_puzzle(state_goal, 20)\n",
    "solution, cost = astar_search(state_puzzle, state_goal, heuristic_manhattan, return_cost=True, return_nexp=False)\n",
    "print('n_moves:', 20)\n",
    "print('Solution moves was', cost)\n"
   ]
  },
  {
   "cell_type": "markdown",
   "metadata": {},
   "source": [
    "##### This is the case because our A* Search function was designed to optimally find the solution path to the goal given the start states. Our n_moves when generating our puzzle was completely chosen at random with no idea of optimization in mind."
   ]
  },
  {
   "cell_type": "markdown",
   "metadata": {},
   "source": [
    "#### Unit tests\n",
    "\n",
    "Note that these won't work unless your A\\* search and heuristic functions are working."
   ]
  },
  {
   "cell_type": "code",
   "execution_count": 26,
   "metadata": {
    "scrolled": false
   },
   "outputs": [
    {
     "name": "stderr",
     "output_type": "stream",
     "text": [
      "..\n",
      "----------------------------------------------------------------------\n",
      "Ran 2 tests in 0.467s\n",
      "\n",
      "OK\n"
     ]
    },
    {
     "data": {
      "text/plain": [
       "<unittest.runner.TextTestResult run=2 errors=0 failures=0>"
      ]
     },
     "execution_count": 26,
     "metadata": {},
     "output_type": "execute_result"
    }
   ],
   "source": [
    "tests_to_run = unittest.TestSuite()\n",
    "tests_to_run.addTest(Tests_Problem2(\"test_generate1\"))\n",
    "tests_to_run.addTest(Tests_Problem2(\"test_generate2\"))\n",
    "unittest.TextTestRunner().run(tests_to_run)"
   ]
  },
  {
   "cell_type": "markdown",
   "metadata": {},
   "source": [
    "<br>\n",
    "\n",
    "<a/ id='p2f'></a>\n",
    "\n",
    "### (2f)\n",
    "\n",
    "Generate 8-tiles puzzles varying in complexity in number of moves for the optimal solution, ranging from 10 moves to at least 25 moves.  Solve each puzzle twice using A\\* search:  once using the Manhattan distance heuristic, and once using the misplaced tiles heuristic.  Keep track of:\n",
    "1. the number of moves in the optimal solution path for each puzzle,\n",
    "2. the number of states explored by A\\* search using the Manhattan distance heuristic, and\n",
    "3. the number of states explored by A\\* search using the number of misplaced tiles heuristic.\n",
    "\n",
    "In light of your answer to **(2e)**, it might be difficult to reliably generate the more complex puzzles.  As long as there are at least two puzzles that require at least 20 moves to solve, you have satisfied the problem requirements.\n",
    "\n",
    "Note that you could put some `while` loops in here (for example) to make sure you get puzzles with all of the requisite solution path lengths. I don't really care if you do or not."
   ]
  },
  {
   "cell_type": "code",
   "execution_count": 30,
   "metadata": {},
   "outputs": [
    {
     "name": "stdout",
     "output_type": "stream",
     "text": [
      "Done.\n"
     ]
    }
   ],
   "source": [
    "state_goal = np.array([[1,4,2],[6,3,5],[0,7,8]])\n",
    "\n",
    "solution1 = []\n",
    "solution2 = []\n",
    "num_moves = []\n",
    "i = 10\n",
    "puzzleFlag = 2\n",
    "while (i < 25 or puzzleFlag > 0):\n",
    "    \n",
    "    puzzle = generate_puzzle(state_goal, i)[0]\n",
    "    sol_path1, num_mov1, explr1 = astar_search(puzzle, state_goal, heuristic_manhattan, return_cost=True, return_nexp=True)\n",
    "    sol_path2, num_mov2, explr2 = astar_search(puzzle, state_goal, heuristic_misplaced, return_cost=True, return_nexp=True)\n",
    "\n",
    "    if (num_mov1 >= 20 or num_mov2 >= 20):\n",
    "        puzzleFlag -= 1\n",
    "    \n",
    "    num_moves.append(num_mov1)\n",
    "    solution1.append(explr1)\n",
    "    solution2.append(explr2)\n",
    "#     solution1.append((num_mov1, explr1))\n",
    "#     solution2.append((num_mov2, explr2))\n",
    "    \n",
    "    i += 1\n",
    "\n",
    "print('Done.')"
   ]
  },
  {
   "cell_type": "markdown",
   "metadata": {},
   "source": [
    "Now generate a plot of the number of states explored by A\\* search using each heuristic, as a function of the number of moves along the optimal solution path. Be sure to label everything clearly.  Write a sentence or two to comment on what you notice, and whether or not it is consistent with what we saw in class."
   ]
  },
  {
   "cell_type": "code",
   "execution_count": 31,
   "metadata": {},
   "outputs": [
    {
     "data": {
      "image/png": "[encoded data removed]",
      "text/plain": [
       "<matplotlib.figure.Figure at 0x11808a400>"
      ]
     },
     "metadata": {},
     "output_type": "display_data"
    }
   ],
   "source": [
    "# sorted_sol1 = sorted(solution1, key=lambda tup: tup[0])\n",
    "# sorted_sol2 = sorted(solution2, key=lambda tup: tup[0])\n",
    "\n",
    "\n",
    "# print(sorted_sol1)\n",
    "# print(sorted_sol2)\n",
    "# moves1, explored1 = zip(*sorted_sol1)\n",
    "# moves2, explored2 = zip(*sorted_sol2)\n",
    "\n",
    "# plt.plot(moves1, explored1, label='heuristic_manhattan')\n",
    "# plt.plot(moves2, explored2, label='heuristic_misplaced')\n",
    "plt.plot(sorted(num_moves), sorted(solution1), label='heuristic_manhattan')\n",
    "plt.plot(num_moves, solution2, label='heuristic_misplaced')\n",
    "plt.xlabel('Number of Moves (Optimal Path)')\n",
    "plt.ylabel('Number of States Explored')\n",
    "plt.title('States Explored vs. Solution Path')\n",
    "plt.legend()\n",
    "plt.show()"
   ]
  },
  {
   "cell_type": "markdown",
   "metadata": {},
   "source": [
    "#### As the Number of Moves along the Optimal Path increase, its obvious that the number of states explored explodes. We can also see that our Heuristic Misplaced function is less performant than our heuristic manhattan. This correlates exaclty to what we learned in class."
   ]
  },
  {
   "cell_type": "markdown",
   "metadata": {
    "collapsed": true
   },
   "source": [
    "<br><br><br>\n",
    "\n",
    "<a id='helpers'></a>\n",
    "\n",
    "---\n",
    "\n",
    "[Back to top](#top)\n",
    "\n",
    "## Some things that might be useful\n",
    "\n",
    "Easiest way to start:  Click this cell, go to \"Cell\" in the toolbar above, and click \"Run All Below\""
   ]
  },
  {
   "cell_type": "code",
   "execution_count": 1,
   "metadata": {},
   "outputs": [],
   "source": [
    "import numpy as np\n",
    "import matplotlib.pyplot as plt\n",
    "import heapq\n",
    "import unittest"
   ]
  },
  {
   "cell_type": "markdown",
   "metadata": {},
   "source": [
    "## Potentially useful for searching"
   ]
  },
  {
   "cell_type": "code",
   "execution_count": 2,
   "metadata": {},
   "outputs": [],
   "source": [
    "def path(previous, s): \n",
    "    '''\n",
    "    `previous` is a dictionary chaining together the predecessor state that led to each state\n",
    "    `s` will be None for the initial state\n",
    "    otherwise, start from the last state `s` and recursively trace `previous` back to the initial state,\n",
    "    constructing a list of states visited as we go\n",
    "    '''\n",
    "    if s is None:\n",
    "        return []\n",
    "    else:\n",
    "        return path(previous, previous[s])+[s]\n",
    "\n",
    "def pathcost(path, step_costs):\n",
    "    '''\n",
    "    add up the step costs along a path, which is assumed to be a list output from the `path` function above\n",
    "    '''\n",
    "    cost = 0\n",
    "    for s in range(len(path)-1):\n",
    "        cost += step_costs[path[s]][path[s+1]]\n",
    "    return cost\n",
    "\n",
    "map_distances = dict(\n",
    "    chi=dict(det=283, cle=345, ind=182),\n",
    "    cle=dict(chi=345, det=169, col=144, pit=134, buf=189),\n",
    "    ind=dict(chi=182, col=176),\n",
    "    col=dict(ind=176, cle=144, pit=185),\n",
    "    det=dict(chi=283, cle=169, buf=256),\n",
    "    buf=dict(det=256, cle=189, pit=215, syr=150),\n",
    "    pit=dict(col=185, cle=134, buf=215, phi=305, bal=247),\n",
    "    syr=dict(buf=150, phi=253, new=254, bos=312),\n",
    "    bal=dict(phi=101, pit=247),\n",
    "    phi=dict(pit=305, bal=101, syr=253, new=97),\n",
    "    new=dict(syr=254, phi=97, bos=215, pro=181),\n",
    "    pro=dict(bos=50, new=181),\n",
    "    bos=dict(pro=50, new=215, syr=312, por=107),\n",
    "    por=dict(bos=107))\n",
    "\n",
    "sld_providence = dict(\n",
    "    chi=833,\n",
    "    cle=531,\n",
    "    ind=782,\n",
    "    col=618,\n",
    "    det=596,\n",
    "    buf=385,\n",
    "    pit=458,\n",
    "    syr=253,\n",
    "    bal=325,\n",
    "    phi=236,\n",
    "    new=157,\n",
    "    pro=0,\n",
    "    bos=38,\n",
    "    por=136)"
   ]
  },
  {
   "cell_type": "markdown",
   "metadata": {},
   "source": [
    "## Unit tests"
   ]
  },
  {
   "cell_type": "code",
   "execution_count": 3,
   "metadata": {},
   "outputs": [],
   "source": [
    "class Tests_Problem1(unittest.TestCase):\n",
    "    def test_ucs_route(self):\n",
    "        path = uniform_cost('chi','new',map_distances,return_cost=False,return_nexp=False)\n",
    "        self.assertEqual(path, ['chi', 'cle', 'pit', 'phi', 'new'])\n",
    "    def test_ucs_cost(self):\n",
    "        path, cost = uniform_cost('chi','new',map_distances,return_cost=True,return_nexp=False)\n",
    "        self.assertEqual(cost, 881)\n",
    "    def test_ucs_nexp(self):\n",
    "        path, cost, nexp = uniform_cost('chi','new',map_distances,return_cost=True,return_nexp=True)\n",
    "        self.assertEqual(nexp, 11)\n",
    "    def test_sld_providence(self):\n",
    "        sld = heuristic_sld_providence('chi')\n",
    "        self.assertEqual(sld, 833)\n",
    "    def test_astar_path(self):\n",
    "        path = astar_search('pit','pro', map_distances, heuristic_sld_providence, return_cost=False, return_nexp=False)\n",
    "        self.assertEqual(path, ['pit', 'phi', 'new', 'pro'])\n",
    "    def test_astar_cost(self):\n",
    "        path, cost = astar_search('pit','pro', map_distances, heuristic_sld_providence, return_cost=True, return_nexp=False)\n",
    "        self.assertEqual(cost, 583)\n",
    "    def test_astar_nexp(self):\n",
    "        path, cost, nexp = astar_search('pit','pro', map_distances, heuristic_sld_providence, return_cost=True, return_nexp=True)\n",
    "        self.assertEqual(nexp, 5)\n",
    "        \n",
    "\n",
    "class Tests_Problem2(unittest.TestCase):\n",
    "    def test_manhattan(self):\n",
    "        state_test = np.array([[0,4,2],[1,3,5],[6,7,8]])\n",
    "        goal = np.array([[0,1,2],[3,4,5],[6,7,8]])\n",
    "        self.assertEqual(heuristic_manhattan(state_test, goal), 4)\n",
    "    def test_misplaced(self):\n",
    "        state_test = np.array([[0,4,2],[1,3,5],[6,7,8]])\n",
    "        goal = np.array([[0,1,2],[3,4,5],[6,7,8]])\n",
    "        self.assertEqual(heuristic_misplaced(state_test, goal), 3)\n",
    "    def test_parity_true(self):\n",
    "        state_test = np.array([[0,4,2],[1,3,5],[6,7,8]])\n",
    "        goal = np.array([[0,1,2],[3,4,5],[6,7,8]])\n",
    "        self.assertTrue(check_parity(state_test, goal))\n",
    "    def test_parity_false(self):\n",
    "        state_test = np.array([[0,2,1],[3,4,5],[6,7,8]])\n",
    "        goal = np.array([[0,1,2],[3,4,5],[6,7,8]])\n",
    "        self.assertFalse(check_parity(state_test, goal))\n",
    "    def test_adjacent(self):\n",
    "        state_test = np.array([[1,2,5],[3,0,4],[6,7,8]])\n",
    "        adjacent = adjacent_states(state_test)\n",
    "        adjacent_set = set()\n",
    "        for k in range(len(adjacent)):\n",
    "            adjacent_set.add(tuple(map(tuple,adjacent[k])))    \n",
    "        answer = {((1, 0, 5), (3, 2, 4), (6, 7, 8)),\n",
    "                  ((1, 2, 5), (0, 3, 4), (6, 7, 8)),\n",
    "                  ((1, 2, 5), (3, 4, 0), (6, 7, 8)),\n",
    "                  ((1, 2, 5), (3, 7, 4), (6, 0, 8))}\n",
    "        self.assertEqual(adjacent_set, answer)\n",
    "    def test_astar_8tile(self):\n",
    "        goal = np.array([[0,1,2],[3,4,5],[6,7,8]])\n",
    "        state_test = np.array([[1,4,2],[3,5,8],[6,7,0]])\n",
    "        moves, cost, nexp = astar_search(state_test, goal, heuristic_manhattan, return_cost=True, return_nexp=True)\n",
    "        # make sure the path is in tuples\n",
    "        moves_tuple = []\n",
    "        for k in range(len(moves)):\n",
    "            moves_tuple.append(tuple(map(tuple, moves[k])))    \n",
    "        self.assertEqual(moves_tuple, [((1, 4, 2), (3, 5, 8), (6, 7, 0)), \n",
    "                                       ((1, 4, 2), (3, 5, 0), (6, 7, 8)), \n",
    "                                       ((1, 4, 2), (3, 0, 5), (6, 7, 8)), \n",
    "                                       ((1, 0, 2), (3, 4, 5), (6, 7, 8)), \n",
    "                                       ((0, 1, 2), (3, 4, 5), (6, 7, 8))])\n",
    "        self.assertEqual(cost, 4)\n",
    "        self.assertEqual(nexp, 5)\n",
    "    def test_generate1(self):\n",
    "        goal = np.array([[0,1,2],[3,4,5],[6,7,8]])\n",
    "        n_moves=15\n",
    "        puzzle, steps = generate_puzzle(goal, n_moves)\n",
    "        solution, cost, nexp = astar_search(puzzle, goal, heuristic_manhattan, return_cost=True, return_nexp=True)\n",
    "        self.assertTrue(cost<=n_moves)\n",
    "        self.assertTrue(len(solution)<=(n_moves+1) and len(solution)>0)\n",
    "    def test_generate2(self):\n",
    "        goal = np.array([[0,1,2],[3,4,5],[6,7,8]])\n",
    "        puzzle, steps = generate_puzzle(goal, n_moves=0)\n",
    "        self.assertTrue((puzzle==goal).all())\n"
   ]
  },
  {
   "cell_type": "markdown",
   "metadata": {},
   "source": [
    "[Back to top](#top)"
   ]
  },
  {
   "cell_type": "code",
   "execution_count": null,
   "metadata": {},
   "outputs": [],
   "source": []
  }
 ],
 "metadata": {
  "kernelspec": {
   "display_name": "Python 3",
   "language": "python",
   "name": "python3"
  },
  "language_info": {
   "codemirror_mode": {
    "name": "ipython",
    "version": 3
   },
   "file_extension": ".py",
   "mimetype": "text/x-python",
   "name": "python",
   "nbconvert_exporter": "python",
   "pygments_lexer": "ipython3",
   "version": "3.6.0"
  }
 },
 "nbformat": 4,
 "nbformat_minor": 2
}
