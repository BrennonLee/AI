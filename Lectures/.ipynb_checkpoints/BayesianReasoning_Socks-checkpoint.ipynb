{
 "cells": [
  {
   "cell_type": "code",
   "execution_count": 3,
   "metadata": {},
   "outputs": [],
   "source": [
    "from scipy import stats\n",
    "from math import floor\n",
    "from time import time\n",
    "import numpy as np\n",
    "import pandas as pd\n",
    "import matplotlib.pyplot as plt"
   ]
  },
  {
   "cell_type": "markdown",
   "metadata": {},
   "source": [
    "<br>\n",
    "\n",
    "---\n",
    "# How many socks do we have?\n",
    "\n",
    "#### A demonstration of Bayesian reasoning and approximate computation.  Based on the [blog post by Rasmus Bååth and Twitter post by Karl Broman](http://www.sumsar.net/blog/2014/10/tiny-data-and-the-socks-of-karl-broman/).\n",
    "\n",
    "---\n",
    "\n",
    "## Demonstration of generative model\n",
    "\n",
    "### Representing our sock collection\n",
    "\n",
    "How many socks do we have total, and how many have we picked out of the dryer?"
   ]
  },
  {
   "cell_type": "code",
   "execution_count": 4,
   "metadata": {},
   "outputs": [],
   "source": [
    "n_socks = 18\n",
    "n_picked = 11"
   ]
  },
  {
   "cell_type": "markdown",
   "metadata": {},
   "source": [
    "Of the `n_picked` picked socks, how many are members of pairs, and how many are unpaired (odd)?"
   ]
  },
  {
   "cell_type": "code",
   "execution_count": 5,
   "metadata": {},
   "outputs": [],
   "source": [
    "n_pairs = 7\n",
    "n_odd = 4"
   ]
  },
  {
   "cell_type": "markdown",
   "metadata": {},
   "source": [
    "Construct a list of all our socks, where the two socks called \"0\" are a pair, the two \"1\"s are a pair, and so on.  7, 8, 9 and 10 are all unpaired socks."
   ]
  },
  {
   "cell_type": "code",
   "execution_count": 6,
   "metadata": {},
   "outputs": [
    {
     "name": "stdout",
     "output_type": "stream",
     "text": [
      "[0, 0, 1, 1, 2, 2, 3, 3, 4, 4, 5, 5, 6, 6, 7, 8, 9, 10]\n"
     ]
    }
   ],
   "source": [
    "socks = []\n",
    "for i in range(n_pairs):\n",
    "    socks = socks + [i]*2\n",
    "for j in range(n_pairs, n_pairs+n_odd):\n",
    "    socks = socks + [j]\n",
    "    \n",
    "print(socks)"
   ]
  },
  {
   "cell_type": "code",
   "execution_count": 7,
   "metadata": {},
   "outputs": [
    {
     "name": "stdout",
     "output_type": "stream",
     "text": [
      "[6, 0, 3, 1, 1, 3, 9, 4, 0, 4, 8]\n",
      "[2, 2, 0, 2, 2, 0, 1, 0, 1, 1, 0]\n"
     ]
    }
   ],
   "source": [
    "picked_socks = list(np.random.choice(socks, size=min(n_picked, n_socks), replace=False))\n",
    "sock_counts = [picked_socks.count(k) for k in range(max(socks)+1)]\n",
    "\n",
    "print(picked_socks)\n",
    "print(sock_counts)"
   ]
  },
  {
   "cell_type": "markdown",
   "metadata": {},
   "source": [
    "### Prior distribution:  informative versus non-informative\n",
    "\n",
    "We can't afford to use non-informative priors because we have only **small data**.  Toward the end here, we will investigate the impacts of data/prior distribution strength.\n",
    "\n",
    "For now, we can use a [negative binomial distribution](https://en.wikipedia.org/wiki/Negative_binomial_distribution) to represent the number of socks we have total.  Negative binomial distributions represent the number of failures before a predetermined set number of successes as a random variable (different sources will have that switched around, by the way).  They require two parameters:\n",
    "* `prior_size`: the number of successes\n",
    "* `prior_p`: the probability of a success on any given trial (Bernoulli random variable)\n",
    "\n",
    "Since we are not really modeling a success/failure process, but rather just needed a discrete, non-negative distribution, it feels more natural to define our prior distribution for the total number of socks in terms of its mean and standard deviation. Luckily, there is a nice relationship between the mean and standard deviation, and the `size` and `p` parameters."
   ]
  },
  {
   "cell_type": "code",
   "execution_count": 8,
   "metadata": {},
   "outputs": [],
   "source": [
    "prior_mu = 30\n",
    "prior_sd = 15\n",
    "prior_size = -prior_mu**2 / (prior_mu - prior_sd**2)\n",
    "prior_p = 1 - prior_mu**2 / (prior_size * prior_sd**2)"
   ]
  },
  {
   "cell_type": "markdown",
   "metadata": {},
   "source": [
    "Let's make a bunch of samples from this prior distribution and see what it looks like."
   ]
  },
  {
   "cell_type": "code",
   "execution_count": 9,
   "metadata": {},
   "outputs": [
    {
     "data": {
      "image/png": "[encoded data removed]",
      "text/plain": [
       "<matplotlib.figure.Figure at 0x11518a438>"
      ]
     },
     "metadata": {},
     "output_type": "display_data"
    }
   ],
   "source": [
    "x = stats.nbinom.rvs(n=prior_size, p=prior_p, size=100000)\n",
    "plt.hist(x, bins=list(range(0,100,5)), edgecolor='white')\n",
    "plt.xlabel('Number of socks total')\n",
    "plt.ylabel('Frequency')\n",
    "plt.show()"
   ]
  },
  {
   "cell_type": "markdown",
   "metadata": {},
   "source": [
    "### How many socks are happily in couples?\n",
    "\n",
    "We know the proportion of our socks that are matched must be between 0 and 1.  A [beta distribution](https://en.wikipedia.org/wiki/Beta_distribution) is defined on the interval [0, 1] and can be peaked wherever we would like.  The mean of a beta distribution is $\\dfrac{\\alpha}{\\alpha+\\beta}$, so say maybe on average 90% of our socks are in pairs:"
   ]
  },
  {
   "cell_type": "code",
   "execution_count": 10,
   "metadata": {},
   "outputs": [
    {
     "data": {
      "image/png": "[encoded data removed]",
      "text/plain": [
       "<matplotlib.figure.Figure at 0x115102e48>"
      ]
     },
     "metadata": {},
     "output_type": "display_data"
    }
   ],
   "source": [
    "prior_alpha = 18   # Note: this is a bit different from the original blog post.\n",
    "prior_beta  = 2\n",
    "\n",
    "# looks at what this prior looks like\n",
    "x = stats.beta.rvs(a=prior_alpha, b=prior_beta, size=100000)\n",
    "plt.hist(x, bins=np.arange(0,1.03,.03), edgecolor='white')\n",
    "plt.xlabel('Proportion in pairs')\n",
    "plt.ylabel('Frequency')\n",
    "plt.show()"
   ]
  },
  {
   "cell_type": "markdown",
   "metadata": {},
   "source": [
    "Actually draw a random sample for number of socks, and for the proportion that are in pairs."
   ]
  },
  {
   "cell_type": "code",
   "execution_count": 11,
   "metadata": {},
   "outputs": [
    {
     "name": "stdout",
     "output_type": "stream",
     "text": [
      "13\n",
      "0.9344958498602869\n"
     ]
    }
   ],
   "source": [
    "n_socks = int(stats.nbinom.rvs(n=prior_size, p=prior_p, size=1))\n",
    "prop_pairs = float(stats.beta.rvs(a=prior_alpha, b=prior_beta, size=1))\n",
    "\n",
    "print(n_socks)\n",
    "print(prop_pairs)"
   ]
  },
  {
   "cell_type": "markdown",
   "metadata": {},
   "source": [
    "How many pairs of socks do we have in pairs, versus odd-balls?"
   ]
  },
  {
   "cell_type": "code",
   "execution_count": 12,
   "metadata": {},
   "outputs": [
    {
     "name": "stdout",
     "output_type": "stream",
     "text": [
      "5\n",
      "3\n"
     ]
    }
   ],
   "source": [
    "n_pairs = int( floor(n_socks/2) * prop_pairs)\n",
    "n_odd = n_socks - 2*n_pairs\n",
    "\n",
    "print(n_pairs)\n",
    "print(n_odd)"
   ]
  },
  {
   "cell_type": "markdown",
   "metadata": {},
   "source": [
    "### Define our model\n",
    "\n",
    "**Question:** What is it we are trying to model?\n",
    "\n",
    "**Answer:** The socks we pull out of the dryer - are they unique or in pairs?\n",
    "\n",
    "<br>\n",
    "\n",
    "**Question:** What is it our model depends on?\n",
    "\n",
    "**Answer:**\n",
    "* `n_socks`, the number of socks we have *total*\n",
    "* `prop_pairs`, the proportion of socks that come in pairs\n",
    "* `n_picked`, how many socks we pull out of the dryer"
   ]
  },
  {
   "cell_type": "code",
   "execution_count": 13,
   "metadata": {},
   "outputs": [],
   "source": [
    "def sock_model(n_socks, prop_pairs, n_picked):\n",
    "    \n",
    "    n_pairs = int( floor(n_socks/2) * prop_pairs)\n",
    "    n_odd = n_socks - 2*n_pairs\n",
    "\n",
    "    # label all our socks\n",
    "    socks = []\n",
    "    for i in range(n_pairs):\n",
    "        socks = socks + [i]*2\n",
    "    for j in range(n_pairs, n_pairs+n_odd):\n",
    "        socks = socks + [j]\n",
    "\n",
    "    if len(socks)>0:\n",
    "        # pick our socks out of the dryer\n",
    "        picked_socks = list(np.random.choice(socks, size=min(n_picked, n_socks), replace=False))\n",
    "        sock_counts = [picked_socks.count(k) for k in range(max(socks)+1)]\n",
    "\n",
    "        # how many were singleton socks?\n",
    "        unique = sock_counts.count(1)\n",
    "\n",
    "        # how many were in pairs?\n",
    "        pairs = sock_counts.count(2)\n",
    "        \n",
    "    else:\n",
    "        unique = 0\n",
    "        pairs = 0\n",
    "    \n",
    "    return unique, pairs"
   ]
  },
  {
   "cell_type": "markdown",
   "metadata": {},
   "source": [
    "### Simulation of many sock-draws from the dryer"
   ]
  },
  {
   "cell_type": "code",
   "execution_count": 14,
   "metadata": {},
   "outputs": [
    {
     "data": {
      "text/html": [
       "<div>\n",
       "<style scoped>\n",
       "    .dataframe tbody tr th:only-of-type {\n",
       "        vertical-align: middle;\n",
       "    }\n",
       "\n",
       "    .dataframe tbody tr th {\n",
       "        vertical-align: top;\n",
       "    }\n",
       "\n",
       "    .dataframe thead th {\n",
       "        text-align: right;\n",
       "    }\n",
       "</style>\n",
       "<table border=\"1\" class=\"dataframe\">\n",
       "  <thead>\n",
       "    <tr style=\"text-align: right;\">\n",
       "      <th></th>\n",
       "      <th>unique</th>\n",
       "      <th>pairs</th>\n",
       "      <th>n_socks</th>\n",
       "      <th>prop_pairs</th>\n",
       "    </tr>\n",
       "  </thead>\n",
       "  <tbody>\n",
       "    <tr>\n",
       "      <th>0</th>\n",
       "      <td>7</td>\n",
       "      <td>2</td>\n",
       "      <td>53</td>\n",
       "      <td>0.980722</td>\n",
       "    </tr>\n",
       "    <tr>\n",
       "      <th>1</th>\n",
       "      <td>9</td>\n",
       "      <td>1</td>\n",
       "      <td>39</td>\n",
       "      <td>0.916685</td>\n",
       "    </tr>\n",
       "    <tr>\n",
       "      <th>2</th>\n",
       "      <td>7</td>\n",
       "      <td>2</td>\n",
       "      <td>23</td>\n",
       "      <td>0.845238</td>\n",
       "    </tr>\n",
       "    <tr>\n",
       "      <th>3</th>\n",
       "      <td>5</td>\n",
       "      <td>3</td>\n",
       "      <td>11</td>\n",
       "      <td>0.724121</td>\n",
       "    </tr>\n",
       "    <tr>\n",
       "      <th>4</th>\n",
       "      <td>11</td>\n",
       "      <td>0</td>\n",
       "      <td>58</td>\n",
       "      <td>0.758643</td>\n",
       "    </tr>\n",
       "  </tbody>\n",
       "</table>\n",
       "</div>"
      ],
      "text/plain": [
       "   unique  pairs  n_socks  prop_pairs\n",
       "0       7      2       53    0.980722\n",
       "1       9      1       39    0.916685\n",
       "2       7      2       23    0.845238\n",
       "3       5      3       11    0.724121\n",
       "4      11      0       58    0.758643"
      ]
     },
     "execution_count": 14,
     "metadata": {},
     "output_type": "execute_result"
    }
   ],
   "source": [
    "n_picked = 11     # The number of socks to pick out of the laundry\n",
    "n_iter = 10000    # The number of iteration to run the sock-drawing simulation\n",
    "\n",
    "results = []\n",
    "\n",
    "for k in range(n_iter):\n",
    "    \n",
    "    # how many socks do we have? <-- This is a draw from the priors!\n",
    "    n_socks = int(stats.nbinom.rvs(n=prior_size, p=prior_p, size=1))\n",
    "    prop_pairs = float(stats.beta.rvs(a=prior_alpha, b=prior_beta, size=1))\n",
    "    \n",
    "    # run our model\n",
    "    unique, pairs = sock_model(n_socks=n_socks, prop_pairs=prop_pairs, n_picked=n_picked)\n",
    "        \n",
    "    results.append([unique, pairs, n_socks, prop_pairs])\n",
    "    \n",
    "    \n",
    "# generally, more efficient to convert/append to DataFrame just one time\n",
    "# (timing test below, for the interested)\n",
    "dfSocks = pd.DataFrame(results, columns=['unique', 'pairs', 'n_socks', 'prop_pairs'])\n",
    "\n",
    "# let's see what this looks like\n",
    "dfSocks.head()"
   ]
  },
  {
   "cell_type": "code",
   "execution_count": 15,
   "metadata": {},
   "outputs": [
    {
     "data": {
      "image/png": "[encoded data removed]",
      "text/plain": [
       "<matplotlib.figure.Figure at 0x1152f3d68>"
      ]
     },
     "metadata": {},
     "output_type": "display_data"
    }
   ],
   "source": [
    "plt.subplots(nrows=2, ncols=1, figsize=(6,8))\n",
    "\n",
    "plt.subplot(2,1,1)\n",
    "ax = dfSocks.loc[(dfSocks[\"unique\"]==11) & (dfSocks[\"pairs\"]==0), \"n_socks\"].hist(\n",
    "    bins=range(0,105,5), edgecolor=\"white\")\n",
    "ax.set_axisbelow(True)\n",
    "plt.xlim([0, 100])\n",
    "plt.xlabel('Number of socks total')\n",
    "plt.xticks(range(0,100,10))\n",
    "plt.ylabel('Frequency')\n",
    "plt.text(70,153, 'Posterior', size=20)\n",
    "\n",
    "plt.subplot(2,1,2)\n",
    "ax = dfSocks[\"n_socks\"].hist(bins=range(0,105,5), edgecolor=\"white\")\n",
    "ax.set_axisbelow(True)\n",
    "plt.xlim([0, 100])\n",
    "plt.xlabel('Number of socks total')\n",
    "plt.xticks(range(0,100,10))\n",
    "plt.ylabel('Frequency')\n",
    "plt.text(70,1250, 'Prior', size=20)\n",
    "\n",
    "plt.show()"
   ]
  },
  {
   "cell_type": "markdown",
   "metadata": {},
   "source": [
    "### What's our guess for the number of socks we have?"
   ]
  },
  {
   "cell_type": "code",
   "execution_count": 16,
   "metadata": {},
   "outputs": [
    {
     "data": {
      "text/plain": [
       "44.0"
      ]
     },
     "execution_count": 16,
     "metadata": {},
     "output_type": "execute_result"
    }
   ],
   "source": [
    "dfSocks.loc[(dfSocks[\"unique\"]==11) & (dfSocks[\"pairs\"]==0), \"n_socks\"].median()"
   ]
  },
  {
   "cell_type": "markdown",
   "metadata": {},
   "source": [
    "<br>\n",
    "\n",
    "---\n",
    "\n",
    "## Some reflections"
   ]
  },
  {
   "cell_type": "markdown",
   "metadata": {},
   "source": [
    "### What would our guess have been without any data?"
   ]
  },
  {
   "cell_type": "code",
   "execution_count": 17,
   "metadata": {},
   "outputs": [
    {
     "data": {
      "text/plain": [
       "28.0"
      ]
     },
     "execution_count": 17,
     "metadata": {},
     "output_type": "execute_result"
    }
   ],
   "source": [
    "dfSocks[\"n_socks\"].median()"
   ]
  },
  {
   "cell_type": "markdown",
   "metadata": {},
   "source": [
    "### How is our result affected by `prop_pairs`?"
   ]
  },
  {
   "cell_type": "code",
   "execution_count": null,
   "metadata": {
    "collapsed": true
   },
   "outputs": [],
   "source": []
  },
  {
   "cell_type": "markdown",
   "metadata": {},
   "source": [
    "### Follow-up:  What is the lower limit of the support of our posterior distribution for `n_socks` if `prop_pairs=1`?"
   ]
  },
  {
   "cell_type": "code",
   "execution_count": null,
   "metadata": {
    "collapsed": true
   },
   "outputs": [],
   "source": []
  },
  {
   "cell_type": "markdown",
   "metadata": {},
   "source": [
    "### How is our result affected by the strength of our prior distribution?"
   ]
  },
  {
   "cell_type": "code",
   "execution_count": null,
   "metadata": {
    "collapsed": true
   },
   "outputs": [],
   "source": []
  },
  {
   "cell_type": "markdown",
   "metadata": {},
   "source": [
    "<br><br>\n",
    "\n",
    "---\n",
    "\n",
    "# Timing test"
   ]
  },
  {
   "cell_type": "code",
   "execution_count": 2,
   "metadata": {},
   "outputs": [
    {
     "name": "stdout",
     "output_type": "stream",
     "text": [
      "Saving results as list, then adding to data frame all at once...\n"
     ]
    },
    {
     "ename": "NameError",
     "evalue": "name 'time' is not defined",
     "output_type": "error",
     "traceback": [
      "\u001b[0;31m---------------------------------------------------------------------------\u001b[0m",
      "\u001b[0;31mNameError\u001b[0m                                 Traceback (most recent call last)",
      "\u001b[0;32m<ipython-input-2-e920ee3ad91c>\u001b[0m in \u001b[0;36m<module>\u001b[0;34m()\u001b[0m\n\u001b[1;32m      8\u001b[0m \u001b[0mprint\u001b[0m\u001b[0;34m(\u001b[0m\u001b[0;34m'Saving results as list, then adding to data frame all at once...'\u001b[0m\u001b[0;34m)\u001b[0m\u001b[0;34m\u001b[0m\u001b[0m\n\u001b[1;32m      9\u001b[0m \u001b[0;34m\u001b[0m\u001b[0m\n\u001b[0;32m---> 10\u001b[0;31m \u001b[0mtbeg\u001b[0m \u001b[0;34m=\u001b[0m \u001b[0mtime\u001b[0m\u001b[0;34m(\u001b[0m\u001b[0;34m)\u001b[0m\u001b[0;34m\u001b[0m\u001b[0m\n\u001b[0m\u001b[1;32m     11\u001b[0m \u001b[0;34m\u001b[0m\u001b[0m\n\u001b[1;32m     12\u001b[0m \u001b[0mresults\u001b[0m \u001b[0;34m=\u001b[0m \u001b[0;34m[\u001b[0m\u001b[0;34m]\u001b[0m\u001b[0;34m\u001b[0m\u001b[0m\n",
      "\u001b[0;31mNameError\u001b[0m: name 'time' is not defined"
     ]
    }
   ],
   "source": [
    "n_picked = 11   # The number of socks to pick out of the laundry\n",
    "n_iter = 10000  # The number of iteration to run the sock-drawing simulation\n",
    "\n",
    "##\n",
    "## append as lists, then convert to data frame all at once...\n",
    "##\n",
    "\n",
    "print('Saving results as list, then adding to data frame all at once...')\n",
    "\n",
    "tbeg = time()\n",
    "\n",
    "results = []\n",
    "\n",
    "for k in range(n_iter):\n",
    "    \n",
    "    # how many socks do we have?\n",
    "    n_socks = int(stats.nbinom.rvs(n=prior_size, p=prior_p, size=1))\n",
    "    prop_pairs = float(stats.beta.rvs(a=prior_alpha, b=prior_beta, size=1))\n",
    "    n_pairs = int( floor(n_socks/2) * prop_pairs)\n",
    "    n_odd = n_socks - 2*n_pairs\n",
    "\n",
    "    # label all our socks\n",
    "    socks = []\n",
    "    for i in range(n_pairs):\n",
    "        socks = socks + [i]*2\n",
    "    for j in range(i+1, i+1+n_odd):\n",
    "        socks = socks + [j]\n",
    "\n",
    "    if len(socks)>0:\n",
    "        # pick our socks out of the dryer\n",
    "        picked_socks = list(np.random.choice(socks, size=min(n_picked, n_socks), replace=False))\n",
    "        sock_counts = [picked_socks.count(k) for k in range(max(socks)+1)]\n",
    "\n",
    "        # how many were singleton socks?\n",
    "        unique = sock_counts.count(1)\n",
    "\n",
    "        # how many were in pairs?\n",
    "        pairs = sock_counts.count(2)\n",
    "    else:\n",
    "        unique = 0\n",
    "        pairs = 0\n",
    "        \n",
    "    results.append([unique, pairs, n_socks, n_pairs, n_odd, prop_pairs])\n",
    "    \n",
    "    \n",
    "# generally, more efficient to convert/append to DataFrame just one time\n",
    "dfSocks = pd.DataFrame(results, columns=['unique', 'pairs', 'n_socks', 'n_pairs', 'n_odd', 'prop_pairs'])\n",
    "\n",
    "tend = time()\n",
    "\n",
    "print('... took {} seconds'.format(tend-tbeg))\n",
    "\n",
    "\n",
    "##\n",
    "## append results one at a time as data frames...\n",
    "##\n",
    "\n",
    "print('Appending results one row at a time to data frame...')\n",
    "\n",
    "tbeg = time()\n",
    "\n",
    "dfSocks = pd.DataFrame(columns=['unique', 'pairs', 'n_socks', 'n_pairs', 'n_odd', 'prop_pairs'])\n",
    "\n",
    "for k in range(n_iter):\n",
    "    \n",
    "    # how many socks do we have?\n",
    "    n_socks = int(stats.nbinom.rvs(n=prior_size, p=prior_p, size=1))\n",
    "    prop_pairs = float(stats.beta.rvs(a=prior_alpha, b=prior_beta, size=1))\n",
    "    n_pairs = int( floor(n_socks/2) * prop_pairs)\n",
    "    n_odd = n_socks - 2*n_pairs\n",
    "\n",
    "    # label all our socks\n",
    "    socks = []\n",
    "    for i in range(n_pairs):\n",
    "        socks = socks + [i]*2\n",
    "    for j in range(i+1, i+1+n_odd):\n",
    "        socks = socks + [j]\n",
    "\n",
    "    if len(socks)>0:\n",
    "        # pick our socks out of the dryer\n",
    "        picked_socks = list(np.random.choice(socks, size=min(n_picked, n_socks), replace=False))\n",
    "        sock_counts = [picked_socks.count(k) for k in range(max(socks)+1)]\n",
    "\n",
    "        # how many were singleton socks?\n",
    "        unique = sock_counts.count(1)\n",
    "\n",
    "        # how many were in pairs?\n",
    "        pairs = sock_counts.count(2)\n",
    "    else:\n",
    "        unique = 0\n",
    "        pairs = 0\n",
    "    \n",
    "    dfResult = pd.DataFrame([[unique, pairs, n_socks, n_pairs, n_odd, prop_pairs]],\n",
    "                            columns=['unique', 'pairs', 'n_socks', 'n_pairs', 'n_odd', 'prop_pairs'])\n",
    "    dfSocks = dfSocks.append(dfResult, ignore_index=True)\n",
    "    \n",
    "tend = time()\n",
    "\n",
    "print('... took {} seconds'.format(tend-tbeg))"
   ]
  },
  {
   "cell_type": "markdown",
   "metadata": {},
   "source": [
    "<br><br>\n",
    "\n",
    "---\n",
    "\n",
    "## Pseudocode"
   ]
  },
  {
   "cell_type": "code",
   "execution_count": null,
   "metadata": {},
   "outputs": [],
   "source": [
    "def sock_model(n_socks, prop_pairs, n_picked):\n",
    "    \n",
    "    # Based on n_socks and prop_pairs, how many\n",
    "    # socks are in pairs, and how many are alone?\n",
    "    \n",
    "    # Represent the socks as a list, `socks`\n",
    "    \n",
    "    # Draw `n_picked` socks from the list `socks`\n",
    "\n",
    "    # Calculate the number of `unique` socks and\n",
    "    # the number of `pairs` of socks\n",
    "    \n",
    "    # Model output:  (unique, pairs)"
   ]
  }
 ],
 "metadata": {
  "kernelspec": {
   "display_name": "Python 3",
   "language": "python",
   "name": "python3"
  },
  "language_info": {
   "codemirror_mode": {
    "name": "ipython",
    "version": 3
   },
   "file_extension": ".py",
   "mimetype": "text/x-python",
   "name": "python",
   "nbconvert_exporter": "python",
   "pygments_lexer": "ipython3",
   "version": "3.6.0"
  }
 },
 "nbformat": 4,
 "nbformat_minor": 2
}
